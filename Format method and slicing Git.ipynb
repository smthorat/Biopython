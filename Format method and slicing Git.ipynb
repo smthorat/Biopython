{
 "cells": [
  {
   "cell_type": "markdown",
   "id": "b819ec06-1111-498e-9bd9-8bf8d57cbfe5",
   "metadata": {},
   "source": [
    "# Format Method and slicing "
   ]
  },
  {
   "cell_type": "markdown",
   "id": "2374702a-6bb0-4fbd-b3b8-491011a40244",
   "metadata": {},
   "source": [
    "You might want to share a sequence record with a colleague who prefers to receive data in a standard format like FASTA.\n",
    "\n",
    "If you are developing a web application that requires users to upload sequence data in FASTA format, you can use the format() method to generate example input files for testing or demonstration purposes."
   ]
  },
  {
   "cell_type": "code",
   "execution_count": null,
   "id": "4e169754-6df0-4b59-a285-d8915ff1ace5",
   "metadata": {},
   "outputs": [],
   "source": [
    "# The format() method in the SeqRecord class of the Biopython library provides an easy way \n",
    "# to convert a sequence record into a specific file format, like FASTA."
   ]
  },
  {
   "cell_type": "markdown",
   "id": "57fc4dab-5b08-4aff-9f95-f6c8a0208a3e",
   "metadata": {},
   "source": [
    "SeqRecord Class:\n",
    "This is a class used to represent a biological sequence with additional information like an ID and a description.\n",
    "\n",
    "format() Method:\n",
    "This method converts the SeqRecord object into a string formatted in a specified file format, such as FASTA."
   ]
  },
  {
   "cell_type": "code",
   "execution_count": 9,
   "id": "ddf6e1e2-acae-4fec-a03b-c1a728ab49a3",
   "metadata": {},
   "outputs": [],
   "source": [
    "from Bio.Seq import Seq\n",
    "from Bio.SeqRecord import SeqRecord \n",
    "record = SeqRecord(   \n",
    "    Seq(\"MMYQQGCFAGGTVLRLAKDLAENNRGARVLVVCSEITAVTFRGPSETHLDSMVGQALFGD\"\n",
    "        \"GAGAVIVGSDPDLSVERPLYELVWTGATLLPDSEGAIDGHLREVGLTFHLLKDVPGLISK\"\n",
    "        \"NIEKSLKEAFTPLGISDWNSTFWIAHPGGPAILDQVEAKLGLKEEKMRATREVLSEYGNM\"\n",
    "        \"SSAC\"),\n",
    "    id=\"gi|14150838|gb|AAK54648.1|AF376133_1\",\n",
    "    description=\"chalcone synthase [Cucumis sativus]\", \n",
    ")"
   ]
  },
  {
   "cell_type": "code",
   "execution_count": 15,
   "id": "d00326f2-f180-44b7-b3fd-259a4424c736",
   "metadata": {},
   "outputs": [
    {
     "name": "stdout",
     "output_type": "stream",
     "text": [
      ">gi|14150838|gb|AAK54648.1|AF376133_1 chalcone synthase [Cucumis sativus]\n",
      "MMYQQGCFAGGTVLRLAKDLAENNRGARVLVVCSEITAVTFRGPSETHLDSMVGQALFGD\n",
      "GAGAVIVGSDPDLSVERPLYELVWTGATLLPDSEGAIDGHLREVGLTFHLLKDVPGLISK\n",
      "NIEKSLKEAFTPLGISDWNSTFWIAHPGGPAILDQVEAKLGLKEEKMRATREVLSEYGNM\n",
      "SSAC\n",
      "\n"
     ]
    }
   ],
   "source": [
    "print(record.format(\"fasta\"))"
   ]
  },
  {
   "cell_type": "markdown",
   "id": "5aace1d7-de9a-4339-af9f-d35345a8c9cf",
   "metadata": {},
   "source": [
    "## Slicing \n"
   ]
  },
  {
   "cell_type": "markdown",
   "id": "454104da-a638-4c61-8ef5-94b20ccef188",
   "metadata": {},
   "source": [
    "Slicing a SeqRecord object in Biopython allows you to create a new SeqRecord that covers just a part of the original sequence. This process also slices any per-letter annotations and preserves features that fall completely within the new sequence, adjusting their locations accordingly."
   ]
  },
  {
   "cell_type": "code",
   "execution_count": 23,
   "id": "ac1ff120-700b-4f20-8f61-0ecb27a41746",
   "metadata": {},
   "outputs": [
    {
     "data": {
      "text/plain": [
       "SeqRecord(seq=Seq('TGTAACGAACGGTGCAATAGTGATCCACACCCAACGCCTGAAATCAGATCCAGG...CTG'), id='NC_005816.1', name='NC_005816', description='Yersinia pestis biovar Microtus str. 91001 plasmid pPCP1, complete sequence', dbxrefs=['Project:58037'])"
      ]
     },
     "execution_count": 23,
     "metadata": {},
     "output_type": "execute_result"
    }
   ],
   "source": [
    "# Load a sequece record \n",
    "from Bio import SeqIO\n",
    "record = SeqIO.read (\"/Users/swaraj/Downloads/NC_005816.gb.txt\",\"genbank\")\n",
    "record"
   ]
  },
  {
   "cell_type": "code",
   "execution_count": 25,
   "id": "ca89c2a3-68b5-42fc-87b7-2e4f8be6a6d1",
   "metadata": {},
   "outputs": [
    {
     "name": "stdout",
     "output_type": "stream",
     "text": [
      "ID: NC_005816.1\n",
      "Name: NC_005816\n",
      "Description: Yersinia pestis biovar Microtus str. 91001 plasmid pPCP1, complete sequence\n",
      "Database cross-references: Project:58037\n",
      "Number of features: 41\n",
      "/molecule_type=DNA\n",
      "/topology=circular\n",
      "/data_file_division=BCT\n",
      "/date=21-JUL-2008\n",
      "/accessions=['NC_005816']\n",
      "/sequence_version=1\n",
      "/gi=45478711\n",
      "/keywords=['']\n",
      "/source=Yersinia pestis biovar Microtus str. 91001\n",
      "/organism=Yersinia pestis biovar Microtus str. 91001\n",
      "/taxonomy=['Bacteria', 'Proteobacteria', 'Gammaproteobacteria', 'Enterobacteriales', 'Enterobacteriaceae', 'Yersinia']\n",
      "/references=[Reference(title='Genetics of metabolic variations between Yersinia pestis biovars and the proposal of a new biovar, microtus', ...), Reference(title='Complete genome sequence of Yersinia pestis strain 91001, an isolate avirulent to humans', ...), Reference(title='Direct Submission', ...), Reference(title='Direct Submission', ...)]\n",
      "/comment=PROVISIONAL REFSEQ: This record has not yet been subject to final\n",
      "NCBI review. The reference sequence was derived from AE017046.\n",
      "COMPLETENESS: full length.\n",
      "Seq('TGTAACGAACGGTGCAATAGTGATCCACACCCAACGCCTGAAATCAGATCCAGG...CTG')\n",
      "9609\n",
      "41\n"
     ]
    }
   ],
   "source": [
    "# Inspect the sequence record \n",
    "print(record)\n",
    "print(len(record))\n",
    "print(len(record.features))"
   ]
  },
  {
   "cell_type": "code",
   "execution_count": 27,
   "id": "4bbcf8f8-a6c8-4d5c-a4f0-ec97df0dbac0",
   "metadata": {},
   "outputs": [
    {
     "name": "stdout",
     "output_type": "stream",
     "text": [
      "type: gene\n",
      "location: [4342:4780](+)\n",
      "qualifiers:\n",
      "    Key: db_xref, Value: ['GeneID:2767712']\n",
      "    Key: gene, Value: ['pim']\n",
      "    Key: locus_tag, Value: ['YP_pPCP05']\n",
      "\n",
      "type: CDS\n",
      "location: [4342:4780](+)\n",
      "qualifiers:\n",
      "    Key: codon_start, Value: ['1']\n",
      "    Key: db_xref, Value: ['GI:45478716', 'GeneID:2767712']\n",
      "    Key: gene, Value: ['pim']\n",
      "    Key: locus_tag, Value: ['YP_pPCP05']\n",
      "    Key: note, Value: ['similar to many previously sequenced pesticin immunity protein entries of Yersinia pestis plasmid pPCP, e.g. gi| 16082683|,ref|NP_395230.1| (NC_003132) , gi|1200166|emb|CAA90861.1| (Z54145 ) , gi|1488655| emb|CAA63439.1| (X92856) , gi|2996219|gb|AAC62543.1| (AF053945) , and gi|5763814|emb|CAB531 67.1| (AL109969)']\n",
      "    Key: product, Value: ['pesticin immunity protein']\n",
      "    Key: protein_id, Value: ['NP_995571.1']\n",
      "    Key: transl_table, Value: ['11']\n",
      "    Key: translation, Value: ['MGGGMISKLFCLALIFLSSSGLAEKNTYTAKDILQNLELNTFGNSLSHGIYGKQTTFKQTEFTNIKSNTKKHIALINKDNSWMISLKILGIKRDEYTVCFEDFSLIRPPTYVAIHPLLIKKVKSGNFIVVKEIKKSIPGCTVYYH']\n",
      "\n"
     ]
    }
   ],
   "source": [
    "# Focus on specific features \n",
    "\n",
    "print(record.features[20])\n",
    "print(record.features[21])"
   ]
  },
  {
   "cell_type": "code",
   "execution_count": 29,
   "id": "5827c1be-b2ab-466b-8b61-dd6703d65ab0",
   "metadata": {},
   "outputs": [],
   "source": [
    "# features 20 and 21 in the provided example are located at positions 4343 to 4780 in the sequence."
   ]
  },
  {
   "cell_type": "code",
   "execution_count": 31,
   "id": "f3a9fde7-7353-485b-b926-2784fdecf7fd",
   "metadata": {},
   "outputs": [],
   "source": [
    "# Lets slice a sequence record \n",
    "sub_record = record[4300:4800]"
   ]
  },
  {
   "cell_type": "code",
   "execution_count": 33,
   "id": "6d753574-5575-4186-a0b1-6bfb49a90632",
   "metadata": {},
   "outputs": [
    {
     "name": "stdout",
     "output_type": "stream",
     "text": [
      "ID: NC_005816.1\n",
      "Name: NC_005816\n",
      "Description: Yersinia pestis biovar Microtus str. 91001 plasmid pPCP1, complete sequence\n",
      "Number of features: 2\n",
      "/molecule_type=DNA\n",
      "Seq('ATAAATAGATTATTCCAAATAATTTATTTATGTAAGAACAGGATGGGAGGGGGA...TTA')\n",
      "500\n",
      "2\n"
     ]
    }
   ],
   "source": [
    "print(sub_record)\n",
    "print(len(sub_record))\n",
    "print(len(sub_record.features))\n"
   ]
  },
  {
   "cell_type": "markdown",
   "id": "c7f34b2d-1b28-4e78-860a-421673cac281",
   "metadata": {},
   "source": [
    "This shows the new sliced sequence (sub_record), its length (500 bases), and the number of features (2).\n"
   ]
  },
  {
   "cell_type": "code",
   "execution_count": 36,
   "id": "11587c37-0c11-428c-854f-113c30cead4f",
   "metadata": {},
   "outputs": [],
   "source": [
    "# Inspecting Features in the Sliced Record"
   ]
  },
  {
   "cell_type": "code",
   "execution_count": 38,
   "id": "0dd49730-e65c-4ec3-97ef-f5414e26b1c4",
   "metadata": {},
   "outputs": [
    {
     "name": "stdout",
     "output_type": "stream",
     "text": [
      "type: gene\n",
      "location: [42:480](+)\n",
      "qualifiers:\n",
      "    Key: db_xref, Value: ['GeneID:2767712']\n",
      "    Key: gene, Value: ['pim']\n",
      "    Key: locus_tag, Value: ['YP_pPCP05']\n",
      "\n",
      "type: CDS\n",
      "location: [42:480](+)\n",
      "qualifiers:\n",
      "    Key: codon_start, Value: ['1']\n",
      "    Key: db_xref, Value: ['GI:45478716', 'GeneID:2767712']\n",
      "    Key: gene, Value: ['pim']\n",
      "    Key: locus_tag, Value: ['YP_pPCP05']\n",
      "    Key: note, Value: ['similar to many previously sequenced pesticin immunity protein entries of Yersinia pestis plasmid pPCP, e.g. gi| 16082683|,ref|NP_395230.1| (NC_003132) , gi|1200166|emb|CAA90861.1| (Z54145 ) , gi|1488655| emb|CAA63439.1| (X92856) , gi|2996219|gb|AAC62543.1| (AF053945) , and gi|5763814|emb|CAB531 67.1| (AL109969)']\n",
      "    Key: product, Value: ['pesticin immunity protein']\n",
      "    Key: protein_id, Value: ['NP_995571.1']\n",
      "    Key: transl_table, Value: ['11']\n",
      "    Key: translation, Value: ['MGGGMISKLFCLALIFLSSSGLAEKNTYTAKDILQNLELNTFGNSLSHGIYGKQTTFKQTEFTNIKSNTKKHIALINKDNSWMISLKILGIKRDEYTVCFEDFSLIRPPTYVAIHPLLIKKVKSGNFIVVKEIKKSIPGCTVYYH']\n",
      "\n"
     ]
    }
   ],
   "source": [
    "print(sub_record.features[0])\n",
    "print(sub_record.features[1])\n"
   ]
  },
  {
   "cell_type": "markdown",
   "id": "48f9a69c-36a4-43d5-8793-23f6e91628f2",
   "metadata": {},
   "source": [
    "These commands print the details of the two features preserved in the sliced record, with their locations adjusted accordingly."
   ]
  },
  {
   "cell_type": "code",
   "execution_count": 41,
   "id": "0bc106c1-cd6e-4e81-98b8-38faa8c4719a",
   "metadata": {},
   "outputs": [],
   "source": [
    "# Annotations and Adjustments:"
   ]
  },
  {
   "cell_type": "code",
   "execution_count": 43,
   "id": "c6097442-27b1-480d-b9f4-ac772a2966e8",
   "metadata": {},
   "outputs": [
    {
     "name": "stdout",
     "output_type": "stream",
     "text": [
      "{'molecule_type': 'DNA'}\n",
      "[]\n"
     ]
    }
   ],
   "source": [
    "print(sub_record.annotations)\n",
    "print(sub_record.dbxrefs)\n"
   ]
  },
  {
   "cell_type": "code",
   "execution_count": null,
   "id": "3b2a7742-29ee-475a-8e88-c9ca57c64649",
   "metadata": {},
   "outputs": [],
   "source": []
  },
  {
   "cell_type": "code",
   "execution_count": 47,
   "id": "377630c5-a0a1-41bf-8d12-9ab97c001e79",
   "metadata": {},
   "outputs": [],
   "source": [
    "sub_record.annotations[\"topology\"] = \"linear\"\n",
    "sub_record.description = \"Yersinia pestis biovar Microtus str. 91001 plasmid pPCP1, partial\"\n"
   ]
  },
  {
   "cell_type": "code",
   "execution_count": 49,
   "id": "b4c24d03-0301-4620-a3c6-00a4c01d1369",
   "metadata": {},
   "outputs": [],
   "source": [
    "# Formatting the Sliced Record"
   ]
  },
  {
   "cell_type": "code",
   "execution_count": 51,
   "id": "1a986a63-2d2a-4ac5-93dd-3cfa2732e3e6",
   "metadata": {},
   "outputs": [
    {
     "name": "stdout",
     "output_type": "stream",
     "text": [
      "LOCUS       NC_005816                500 bp    DNA     linear   UNK 01-JAN-1980\n",
      "DEFINITION  Yersinia pestis biovar Microtus str. 91001 plasmid pPCP1, partial.\n",
      "ACCESSION   NC_005816\n",
      "VERSION     NC_0058...\n"
     ]
    }
   ],
   "source": [
    "print(sub_record.format(\"genbank\")[:200] + \"...\")\n"
   ]
  },
  {
   "cell_type": "markdown",
   "id": "40bfc3ee-a8b7-4cde-a59f-c214534f7bf1",
   "metadata": {},
   "source": [
    "Slicing a SeqRecord in Biopython is a powerful way to focus on and manipulate specific parts of a biological sequence. It ensures that annotations and features are properly handled and adjusted, allowing for accurate downstream analysis and data sharing."
   ]
  }
 ],
 "metadata": {
  "kernelspec": {
   "display_name": "Python 3 (ipykernel)",
   "language": "python",
   "name": "python3"
  },
  "language_info": {
   "codemirror_mode": {
    "name": "ipython",
    "version": 3
   },
   "file_extension": ".py",
   "mimetype": "text/x-python",
   "name": "python",
   "nbconvert_exporter": "python",
   "pygments_lexer": "ipython3",
   "version": "3.11.7"
  }
 },
 "nbformat": 4,
 "nbformat_minor": 5
}

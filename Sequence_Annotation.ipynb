{
  "nbformat": 4,
  "nbformat_minor": 0,
  "metadata": {
    "colab": {
      "provenance": [],
      "authorship_tag": "ABX9TyNSNAgyaCu9INyATp8sMtxn",
      "include_colab_link": true
    },
    "kernelspec": {
      "name": "python3",
      "display_name": "Python 3"
    },
    "language_info": {
      "name": "python"
    }
  },
  "cells": [
    {
      "cell_type": "markdown",
      "metadata": {
        "id": "view-in-github",
        "colab_type": "text"
      },
      "source": [
        "<a href=\"https://colab.research.google.com/github/smthorat/Biopython/blob/main/Sequence_Annotation.ipynb\" target=\"_parent\"><img src=\"https://colab.research.google.com/assets/colab-badge.svg\" alt=\"Open In Colab\"/></a>"
      ]
    },
    {
      "cell_type": "code",
      "execution_count": null,
      "metadata": {
        "colab": {
          "base_uri": "https://localhost:8080/"
        },
        "id": "3hrnhuG0QGSH",
        "outputId": "3a85cba1-008f-4dae-81c1-401cddbe46e8"
      },
      "outputs": [
        {
          "output_type": "stream",
          "name": "stdout",
          "text": [
            "Requirement already satisfied: biopython in /usr/local/lib/python3.10/dist-packages (1.83)\n",
            "Requirement already satisfied: numpy in /usr/local/lib/python3.10/dist-packages (from biopython) (1.25.2)\n"
          ]
        }
      ],
      "source": [
        "!pip install biopython\n",
        "from Bio import SeqIO\n",
        "from Bio.SeqRecord import SeqRecord\n"
      ]
    },
    {
      "cell_type": "markdown",
      "source": [
        "In Biopython, SeqRecord is a class used to store a biological sequence and its associated information, such as an identifier, name, description, and features. It acts like a container for sequence data and makes it easy to handle and manipulate sequences with their metadata.\n",
        "\n",
        "Here's a simple breakdown of its main components:\n",
        "\n",
        "Sequence (seq): The actual biological sequence (DNA, RNA, or protein).\n",
        "ID (id): A unique identifier for the sequence.\n",
        "Name (name): A common name or short description of the sequence.\n",
        "Description (description): A longer description providing more details about the sequence.\n",
        "Features (features): Annotations about specific parts of the sequence, like genes or regulatory regions."
      ],
      "metadata": {
        "id": "bcrjR-FoSV10"
      }
    },
    {
      "cell_type": "markdown",
      "source": [
        "# 1. Create a SeqRecord\n",
        "## SeqRecord objects from Fasta"
      ],
      "metadata": {
        "id": "gAS0BrvMSfHF"
      }
    },
    {
      "cell_type": "code",
      "source": [
        "from Bio.Seq import Seq # Import the module\n",
        "simple_seq = Seq(\"ATGCATGC\")\n",
        "from Bio.SeqRecord import SeqRecord\n",
        "simple_seq_r = SeqRecord(simple_seq, id=\"simple_seq\", name=\"Simple Sequence\", description=\"A simple sequence\") # This is standard, how you create the records\n",
        "print(simple_seq_r)"
      ],
      "metadata": {
        "colab": {
          "base_uri": "https://localhost:8080/"
        },
        "id": "SZzUpO9kQy3q",
        "outputId": "0b397345-c06f-417e-f290-f1336c502ed9"
      },
      "execution_count": null,
      "outputs": [
        {
          "output_type": "stream",
          "name": "stdout",
          "text": [
            "ID: simple_seq\n",
            "Name: Simple Sequence\n",
            "Description: A simple sequence\n",
            "Number of features: 0\n",
            "Seq('ATGCATGC')\n"
          ]
        }
      ]
    },
    {
      "cell_type": "code",
      "source": [
        "# Create one more record\n",
        "\n",
        "from Bio.Seq import Seq\n",
        "sequence = Seq(\"GTAGTAGATGACCCGATGCGATCGA\")\n",
        "from Bio.SeqRecord import SeqRecord\n",
        "sequence_record = SeqRecord(sequence, id= 'One', name = 'DNA Sequence', description='Human DNA')\n",
        "print(sequence_record)\n"
      ],
      "metadata": {
        "colab": {
          "base_uri": "https://localhost:8080/"
        },
        "id": "T-xintELTJG4",
        "outputId": "e85a9645-679b-4609-f8a7-9a6457dbdf77"
      },
      "execution_count": null,
      "outputs": [
        {
          "output_type": "stream",
          "name": "stdout",
          "text": [
            "ID: One\n",
            "Name: DNA Sequence\n",
            "Description: Human DNA\n",
            "Number of features: 0\n",
            "Seq('GTAGTAGATGACCCGATGCGATCGA')\n"
          ]
        }
      ]
    },
    {
      "cell_type": "code",
      "source": [
        "sequence_record.annotations['Evidence'] = 'There is no evidence, I just made it up'\n",
        "print(sequence_record.annotations) # Use this command to view all the annotations"
      ],
      "metadata": {
        "colab": {
          "base_uri": "https://localhost:8080/"
        },
        "id": "QTS6NRkXUYcX",
        "outputId": "813bd8f9-4e6d-4888-f5e1-87c2eacca5c5"
      },
      "execution_count": null,
      "outputs": [
        {
          "output_type": "stream",
          "name": "stdout",
          "text": [
            "{'Evidence': 'There is no evidence, I just made it up'}\n"
          ]
        }
      ]
    },
    {
      "cell_type": "code",
      "source": [
        "print(sequence_record.annotations['Evidence']) # This command is helpful to access perticular annotation"
      ],
      "metadata": {
        "colab": {
          "base_uri": "https://localhost:8080/"
        },
        "id": "izllqMI5XFat",
        "outputId": "5a3f66f6-e340-440f-c637-7f9f4b2a65b0"
      },
      "execution_count": null,
      "outputs": [
        {
          "output_type": "stream",
          "name": "stdout",
          "text": [
            "There is no evidence, I just made it up\n"
          ]
        }
      ]
    },
    {
      "cell_type": "markdown",
      "source": [
        "## Read the fasta file without downloading"
      ],
      "metadata": {
        "id": "TBYw4atkaM_z"
      }
    },
    {
      "cell_type": "code",
      "source": [
        "import requests\n",
        "from Bio import SeqIO\n",
        "from io import StringIO\n",
        "\n",
        "# URL of the FASTA file\n",
        "url = \"https://raw.githubusercontent.com/biopython/biopython/master/Tests/GenBank/NC_005816.fna\"\n",
        "\n",
        "# Fetch the content of the file\n",
        "response = requests.get(url)\n",
        "response.raise_for_status()  # Ensure we notice bad responses Check for any HTTP errors using response.raise_for_status()\n",
        "\n",
        "# Read the content using SeqIO\n",
        "file_content = StringIO(response.text)\n",
        "record = SeqIO.read(file_content, \"fasta\")\n",
        "\n",
        "record"
      ],
      "metadata": {
        "id": "XdCr-K53X16P",
        "colab": {
          "base_uri": "https://localhost:8080/"
        },
        "outputId": "f2404ef5-7482-4770-a6e3-ecf7a10a2fc9"
      },
      "execution_count": 14,
      "outputs": [
        {
          "output_type": "execute_result",
          "data": {
            "text/plain": [
              "SeqRecord(seq=Seq('TGTAACGAACGGTGCAATAGTGATCCACACCCAACGCCTGAAATCAGATCCAGG...CTG'), id='gi|45478711|ref|NC_005816.1|', name='gi|45478711|ref|NC_005816.1|', description='gi|45478711|ref|NC_005816.1| Yersinia pestis biovar Microtus str. 91001 plasmid pPCP1, complete sequence', dbxrefs=[])"
            ]
          },
          "metadata": {},
          "execution_count": 14
        }
      ]
    },
    {
      "cell_type": "code",
      "source": [
        "record.id"
      ],
      "metadata": {
        "colab": {
          "base_uri": "https://localhost:8080/",
          "height": 35
        },
        "id": "_v2NYAQ7agX5",
        "outputId": "210893f1-5650-4f82-8a07-b91f550d35b1"
      },
      "execution_count": 15,
      "outputs": [
        {
          "output_type": "execute_result",
          "data": {
            "text/plain": [
              "'gi|45478711|ref|NC_005816.1|'"
            ],
            "application/vnd.google.colaboratory.intrinsic+json": {
              "type": "string"
            }
          },
          "metadata": {},
          "execution_count": 15
        }
      ]
    },
    {
      "cell_type": "code",
      "source": [
        "record.name"
      ],
      "metadata": {
        "colab": {
          "base_uri": "https://localhost:8080/",
          "height": 35
        },
        "id": "-TctJRvbbSCo",
        "outputId": "9b7b7b50-9372-4f48-de00-b8625ebc746f"
      },
      "execution_count": 16,
      "outputs": [
        {
          "output_type": "execute_result",
          "data": {
            "text/plain": [
              "'gi|45478711|ref|NC_005816.1|'"
            ],
            "application/vnd.google.colaboratory.intrinsic+json": {
              "type": "string"
            }
          },
          "metadata": {},
          "execution_count": 16
        }
      ]
    },
    {
      "cell_type": "code",
      "source": [
        "record.description"
      ],
      "metadata": {
        "colab": {
          "base_uri": "https://localhost:8080/",
          "height": 35
        },
        "id": "lQpzx0jBbU-q",
        "outputId": "323d0ad4-a573-4229-853e-b5d76e4778df"
      },
      "execution_count": 17,
      "outputs": [
        {
          "output_type": "execute_result",
          "data": {
            "text/plain": [
              "'gi|45478711|ref|NC_005816.1| Yersinia pestis biovar Microtus str. 91001 plasmid pPCP1, complete sequence'"
            ],
            "application/vnd.google.colaboratory.intrinsic+json": {
              "type": "string"
            }
          },
          "metadata": {},
          "execution_count": 17
        }
      ]
    },
    {
      "cell_type": "code",
      "source": [
        "record.dbxrefs # If a sequence is referenced in other databases, those references would be listed here."
      ],
      "metadata": {
        "colab": {
          "base_uri": "https://localhost:8080/"
        },
        "id": "9PPaXaSgbXTO",
        "outputId": "a4c90b46-779f-4980-cd12-a2353ff9d8ab"
      },
      "execution_count": 18,
      "outputs": [
        {
          "output_type": "execute_result",
          "data": {
            "text/plain": [
              "[]"
            ]
          },
          "metadata": {},
          "execution_count": 18
        }
      ]
    },
    {
      "cell_type": "code",
      "source": [
        "record.annotations # This can include various annotations such as the source of the sequence, references to literature, and more."
      ],
      "metadata": {
        "colab": {
          "base_uri": "https://localhost:8080/"
        },
        "id": "QPPZ-HB4b4ru",
        "outputId": "94925a20-688e-4429-9666-29e77325ede5"
      },
      "execution_count": 19,
      "outputs": [
        {
          "output_type": "execute_result",
          "data": {
            "text/plain": [
              "{}"
            ]
          },
          "metadata": {},
          "execution_count": 19
        }
      ]
    },
    {
      "cell_type": "code",
      "source": [
        "record.features # This attribute holds a list of SeqFeature objects, which describe various features of the sequence, such as genes, regulatory regions, and other functional elements."
      ],
      "metadata": {
        "colab": {
          "base_uri": "https://localhost:8080/"
        },
        "id": "NhkWI5qJb8Rp",
        "outputId": "f3447ca7-2c7c-4284-f2f9-00feb87231fc"
      },
      "execution_count": 20,
      "outputs": [
        {
          "output_type": "execute_result",
          "data": {
            "text/plain": [
              "[]"
            ]
          },
          "metadata": {},
          "execution_count": 20
        }
      ]
    },
    {
      "cell_type": "code",
      "source": [
        "record.letter_annotations # This dictionary contains per-letter annotations. This means annotations that apply to each individual letter (nucleotide or amino acid) in the sequence, such as quality scores or secondary structure information."
      ],
      "metadata": {
        "colab": {
          "base_uri": "https://localhost:8080/"
        },
        "id": "KVzYmBisb-X_",
        "outputId": "268ad2c5-b001-44d0-b5de-c1dbd895bb73"
      },
      "execution_count": 21,
      "outputs": [
        {
          "output_type": "execute_result",
          "data": {
            "text/plain": [
              "{}"
            ]
          },
          "metadata": {},
          "execution_count": 21
        }
      ]
    },
    {
      "cell_type": "markdown",
      "source": [
        "## SeqRecord object from GenBank file"
      ],
      "metadata": {
        "id": "60NPNAXnc3rL"
      }
    },
    {
      "cell_type": "code",
      "source": [
        "import requests\n",
        "from Bio import SeqIO\n",
        "from io import StringIO\n",
        "\n",
        "# URL of the GenBank file\n",
        "url = \"https://raw.githubusercontent.com/biopython/biopython/master/Tests/GenBank/NC_005816.gb\"\n",
        "\n",
        "# Fetch the content of the file\n",
        "response = requests.get(url)\n",
        "response.raise_for_status()  # Ensure we notice bad responses\n",
        "\n",
        "# Read the content using SeqIO\n",
        "file_content = StringIO(response.text)\n",
        "record = SeqIO.read(file_content, \"genbank\")\n",
        "\n",
        "print(record)\n"
      ],
      "metadata": {
        "colab": {
          "base_uri": "https://localhost:8080/"
        },
        "id": "Sdza0JL6cBBH",
        "outputId": "214e100b-df28-4cb7-f87b-66939fbea2ea"
      },
      "execution_count": 34,
      "outputs": [
        {
          "output_type": "stream",
          "name": "stdout",
          "text": [
            "ID: NC_005816.1\n",
            "Name: NC_005816\n",
            "Description: Yersinia pestis biovar Microtus str. 91001 plasmid pPCP1, complete sequence\n",
            "Database cross-references: Project:58037\n",
            "Number of features: 41\n",
            "/molecule_type=DNA\n",
            "/topology=circular\n",
            "/data_file_division=BCT\n",
            "/date=21-JUL-2008\n",
            "/accessions=['NC_005816']\n",
            "/sequence_version=1\n",
            "/gi=45478711\n",
            "/keywords=['']\n",
            "/source=Yersinia pestis biovar Microtus str. 91001\n",
            "/organism=Yersinia pestis biovar Microtus str. 91001\n",
            "/taxonomy=['Bacteria', 'Proteobacteria', 'Gammaproteobacteria', 'Enterobacteriales', 'Enterobacteriaceae', 'Yersinia']\n",
            "/references=[Reference(title='Genetics of metabolic variations between Yersinia pestis biovars and the proposal of a new biovar, microtus', ...), Reference(title='Complete genome sequence of Yersinia pestis strain 91001, an isolate avirulent to humans', ...), Reference(title='Direct Submission', ...), Reference(title='Direct Submission', ...)]\n",
            "/comment=PROVISIONAL REFSEQ: This record has not yet been subject to final\n",
            "NCBI review. The reference sequence was derived from AE017046.\n",
            "COMPLETENESS: full length.\n",
            "Seq('TGTAACGAACGGTGCAATAGTGATCCACACCCAACGCCTGAAATCAGATCCAGG...CTG')\n"
          ]
        }
      ]
    },
    {
      "cell_type": "code",
      "source": [
        "record.id"
      ],
      "metadata": {
        "colab": {
          "base_uri": "https://localhost:8080/",
          "height": 35
        },
        "id": "KwXvDK6feeeE",
        "outputId": "85055164-97bf-4c32-e6e6-00cca2d4d760"
      },
      "execution_count": 24,
      "outputs": [
        {
          "output_type": "execute_result",
          "data": {
            "text/plain": [
              "'NC_005816.1'"
            ],
            "application/vnd.google.colaboratory.intrinsic+json": {
              "type": "string"
            }
          },
          "metadata": {},
          "execution_count": 24
        }
      ]
    },
    {
      "cell_type": "code",
      "source": [
        "record.name"
      ],
      "metadata": {
        "colab": {
          "base_uri": "https://localhost:8080/",
          "height": 35
        },
        "id": "W69HF0g4egjN",
        "outputId": "bc027602-14e2-4804-dbc6-6e1bd76d4ea0"
      },
      "execution_count": 25,
      "outputs": [
        {
          "output_type": "execute_result",
          "data": {
            "text/plain": [
              "'NC_005816'"
            ],
            "application/vnd.google.colaboratory.intrinsic+json": {
              "type": "string"
            }
          },
          "metadata": {},
          "execution_count": 25
        }
      ]
    },
    {
      "cell_type": "code",
      "source": [
        "print(record.annotations, record.description)"
      ],
      "metadata": {
        "colab": {
          "base_uri": "https://localhost:8080/"
        },
        "id": "CN2V4YhJeh2l",
        "outputId": "b93e3edb-22a7-4eb7-8734-c1d94d1cdd90"
      },
      "execution_count": 26,
      "outputs": [
        {
          "output_type": "stream",
          "name": "stdout",
          "text": [
            "{'molecule_type': 'DNA', 'topology': 'circular', 'data_file_division': 'BCT', 'date': '21-JUL-2008', 'accessions': ['NC_005816'], 'sequence_version': 1, 'gi': '45478711', 'keywords': [''], 'source': 'Yersinia pestis biovar Microtus str. 91001', 'organism': 'Yersinia pestis biovar Microtus str. 91001', 'taxonomy': ['Bacteria', 'Proteobacteria', 'Gammaproteobacteria', 'Enterobacteriales', 'Enterobacteriaceae', 'Yersinia'], 'references': [Reference(title='Genetics of metabolic variations between Yersinia pestis biovars and the proposal of a new biovar, microtus', ...), Reference(title='Complete genome sequence of Yersinia pestis strain 91001, an isolate avirulent to humans', ...), Reference(title='Direct Submission', ...), Reference(title='Direct Submission', ...)], 'comment': 'PROVISIONAL REFSEQ: This record has not yet been subject to final\\nNCBI review. The reference sequence was derived from AE017046.\\nCOMPLETENESS: full length.'} Yersinia pestis biovar Microtus str. 91001 plasmid pPCP1, complete sequence\n"
          ]
        }
      ]
    },
    {
      "cell_type": "code",
      "source": [
        "record.annotations\n"
      ],
      "metadata": {
        "colab": {
          "base_uri": "https://localhost:8080/"
        },
        "id": "zkYdfZxfemEd",
        "outputId": "3816f0d4-5e40-41d4-e7ba-bd75d1045c7b"
      },
      "execution_count": 27,
      "outputs": [
        {
          "output_type": "execute_result",
          "data": {
            "text/plain": [
              "{'molecule_type': 'DNA',\n",
              " 'topology': 'circular',\n",
              " 'data_file_division': 'BCT',\n",
              " 'date': '21-JUL-2008',\n",
              " 'accessions': ['NC_005816'],\n",
              " 'sequence_version': 1,\n",
              " 'gi': '45478711',\n",
              " 'keywords': [''],\n",
              " 'source': 'Yersinia pestis biovar Microtus str. 91001',\n",
              " 'organism': 'Yersinia pestis biovar Microtus str. 91001',\n",
              " 'taxonomy': ['Bacteria',\n",
              "  'Proteobacteria',\n",
              "  'Gammaproteobacteria',\n",
              "  'Enterobacteriales',\n",
              "  'Enterobacteriaceae',\n",
              "  'Yersinia'],\n",
              " 'references': [Reference(title='Genetics of metabolic variations between Yersinia pestis biovars and the proposal of a new biovar, microtus', ...),\n",
              "  Reference(title='Complete genome sequence of Yersinia pestis strain 91001, an isolate avirulent to humans', ...),\n",
              "  Reference(title='Direct Submission', ...),\n",
              "  Reference(title='Direct Submission', ...)],\n",
              " 'comment': 'PROVISIONAL REFSEQ: This record has not yet been subject to final\\nNCBI review. The reference sequence was derived from AE017046.\\nCOMPLETENESS: full length.'}"
            ]
          },
          "metadata": {},
          "execution_count": 27
        }
      ]
    },
    {
      "cell_type": "code",
      "source": [
        "record.annotations['source']"
      ],
      "metadata": {
        "colab": {
          "base_uri": "https://localhost:8080/",
          "height": 35
        },
        "id": "HUgaN26Xepoe",
        "outputId": "36a131e6-2aef-48aa-a96c-67826fa51047"
      },
      "execution_count": 28,
      "outputs": [
        {
          "output_type": "execute_result",
          "data": {
            "text/plain": [
              "'Yersinia pestis biovar Microtus str. 91001'"
            ],
            "application/vnd.google.colaboratory.intrinsic+json": {
              "type": "string"
            }
          },
          "metadata": {},
          "execution_count": 28
        }
      ]
    },
    {
      "cell_type": "code",
      "source": [
        "record.dbxrefs"
      ],
      "metadata": {
        "colab": {
          "base_uri": "https://localhost:8080/"
        },
        "id": "kUgMOi-DesDl",
        "outputId": "85f92f02-ce13-46bf-c46d-43f5a19d6f9e"
      },
      "execution_count": 29,
      "outputs": [
        {
          "output_type": "execute_result",
          "data": {
            "text/plain": [
              "['Project:58037']"
            ]
          },
          "metadata": {},
          "execution_count": 29
        }
      ]
    },
    {
      "cell_type": "code",
      "source": [
        "record.features"
      ],
      "metadata": {
        "colab": {
          "base_uri": "https://localhost:8080/"
        },
        "id": "P06geiMGevZ9",
        "outputId": "840f4fd6-c262-4d6f-c3b2-b5c20b3d1a2e"
      },
      "execution_count": 30,
      "outputs": [
        {
          "output_type": "execute_result",
          "data": {
            "text/plain": [
              "[SeqFeature(SimpleLocation(ExactPosition(0), ExactPosition(9609), strand=1), type='source', qualifiers=...),\n",
              " SeqFeature(SimpleLocation(ExactPosition(0), ExactPosition(1954), strand=1), type='repeat_region'),\n",
              " SeqFeature(SimpleLocation(ExactPosition(86), ExactPosition(1109), strand=1), type='gene', qualifiers=...),\n",
              " SeqFeature(SimpleLocation(ExactPosition(86), ExactPosition(1109), strand=1), type='CDS', qualifiers=...),\n",
              " SeqFeature(SimpleLocation(ExactPosition(86), ExactPosition(959), strand=1), type='misc_feature', qualifiers=...),\n",
              " SeqFeature(SimpleLocation(BeforePosition(110), ExactPosition(209), strand=1), type='misc_feature', qualifiers=...),\n",
              " SeqFeature(SimpleLocation(ExactPosition(437), ExactPosition(812), strand=1), type='misc_feature', qualifiers=...),\n",
              " SeqFeature(SimpleLocation(ExactPosition(1105), ExactPosition(1888), strand=1), type='gene', qualifiers=...),\n",
              " SeqFeature(SimpleLocation(ExactPosition(1105), ExactPosition(1888), strand=1), type='CDS', qualifiers=...),\n",
              " SeqFeature(SimpleLocation(ExactPosition(1108), ExactPosition(1885), strand=1), type='misc_feature', qualifiers=...),\n",
              " SeqFeature(SimpleLocation(ExactPosition(1366), AfterPosition(1669), strand=1), type='misc_feature', qualifiers=...),\n",
              " SeqFeature(SimpleLocation(ExactPosition(1432), ExactPosition(1456), strand=1), type='misc_feature', qualifiers=...),\n",
              " SeqFeature(CompoundLocation([SimpleLocation(ExactPosition(1435), ExactPosition(1459), strand=1), SimpleLocation(ExactPosition(1618), ExactPosition(1621), strand=1)], 'order'), type='misc_feature', qualifiers=...),\n",
              " SeqFeature(SimpleLocation(ExactPosition(1606), ExactPosition(1624), strand=1), type='misc_feature', qualifiers=...),\n",
              " SeqFeature(SimpleLocation(ExactPosition(2924), ExactPosition(3119), strand=1), type='gene', qualifiers=...),\n",
              " SeqFeature(SimpleLocation(ExactPosition(2924), ExactPosition(3119), strand=1), type='CDS', qualifiers=...),\n",
              " SeqFeature(SimpleLocation(ExactPosition(2924), ExactPosition(3107), strand=1), type='misc_feature', qualifiers=...),\n",
              " SeqFeature(SimpleLocation(ExactPosition(3485), ExactPosition(3857), strand=1), type='gene', qualifiers=...),\n",
              " SeqFeature(SimpleLocation(ExactPosition(3485), ExactPosition(3857), strand=1), type='CDS', qualifiers=...),\n",
              " SeqFeature(SimpleLocation(ExactPosition(3497), ExactPosition(3626), strand=1), type='misc_feature', qualifiers=...),\n",
              " SeqFeature(SimpleLocation(ExactPosition(4342), ExactPosition(4780), strand=1), type='gene', qualifiers=...),\n",
              " SeqFeature(SimpleLocation(ExactPosition(4342), ExactPosition(4780), strand=1), type='CDS', qualifiers=...),\n",
              " SeqFeature(SimpleLocation(ExactPosition(4814), ExactPosition(5888), strand=-1), type='gene', qualifiers=...),\n",
              " SeqFeature(SimpleLocation(ExactPosition(4814), ExactPosition(5888), strand=-1), type='CDS', qualifiers=...),\n",
              " SeqFeature(SimpleLocation(ExactPosition(5909), ExactPosition(5911), strand=1), type='variation', qualifiers=...),\n",
              " SeqFeature(SimpleLocation(ExactPosition(5933), ExactPosition(5933), strand=1), type='variation', qualifiers=...),\n",
              " SeqFeature(SimpleLocation(ExactPosition(5933), ExactPosition(5933), strand=1), type='variation', qualifiers=...),\n",
              " SeqFeature(SimpleLocation(ExactPosition(5947), ExactPosition(5948), strand=1), type='variation', qualifiers=...),\n",
              " SeqFeature(SimpleLocation(ExactPosition(6004), ExactPosition(6421), strand=1), type='gene', qualifiers=...),\n",
              " SeqFeature(SimpleLocation(ExactPosition(6004), ExactPosition(6421), strand=1), type='CDS', qualifiers=...),\n",
              " SeqFeature(SimpleLocation(ExactPosition(6524), ExactPosition(6525), strand=1), type='variation', qualifiers=...),\n",
              " SeqFeature(SimpleLocation(ExactPosition(6663), ExactPosition(7602), strand=1), type='gene', qualifiers=...),\n",
              " SeqFeature(SimpleLocation(ExactPosition(6663), ExactPosition(7602), strand=1), type='CDS', qualifiers=...),\n",
              " SeqFeature(SimpleLocation(ExactPosition(6663), ExactPosition(7599), strand=1), type='misc_feature', qualifiers=...),\n",
              " SeqFeature(SimpleLocation(ExactPosition(7788), ExactPosition(8088), strand=-1), type='gene', qualifiers=...),\n",
              " SeqFeature(SimpleLocation(ExactPosition(7788), ExactPosition(8088), strand=-1), type='CDS', qualifiers=...),\n",
              " SeqFeature(SimpleLocation(ExactPosition(7836), ExactPosition(7995), strand=-1), type='misc_feature', qualifiers=...),\n",
              " SeqFeature(SimpleLocation(ExactPosition(8087), ExactPosition(8360), strand=-1), type='gene', qualifiers=...),\n",
              " SeqFeature(SimpleLocation(ExactPosition(8087), ExactPosition(8360), strand=-1), type='CDS', qualifiers=...),\n",
              " SeqFeature(SimpleLocation(ExactPosition(8090), AfterPosition(8357), strand=-1), type='misc_feature', qualifiers=...),\n",
              " SeqFeature(SimpleLocation(ExactPosition(8529), ExactPosition(8529), strand=1), type='variation', qualifiers=...)]"
            ]
          },
          "metadata": {},
          "execution_count": 30
        }
      ]
    },
    {
      "cell_type": "code",
      "source": [
        "len(record.features)"
      ],
      "metadata": {
        "colab": {
          "base_uri": "https://localhost:8080/"
        },
        "id": "ZxRD6rZFexjW",
        "outputId": "2f02ee7c-925c-43d6-d7a4-1bc5d2810c78"
      },
      "execution_count": 31,
      "outputs": [
        {
          "output_type": "execute_result",
          "data": {
            "text/plain": [
              "41"
            ]
          },
          "metadata": {},
          "execution_count": 31
        }
      ]
    },
    {
      "cell_type": "markdown",
      "source": [
        "# Location Testing\n",
        "\n"
      ],
      "metadata": {
        "id": "43EfGMA0e9kA"
      }
    },
    {
      "cell_type": "code",
      "source": [
        "from Bio import SeqIO\n",
        "my_snp = 4350 # We are looking for this perticular SNP, if its there, will ask to print the location and feature\n",
        "\n",
        "import requests\n",
        "from Bio import SeqIO\n",
        "from io import StringIO\n",
        "\n",
        "# URL of the GenBank file\n",
        "url = \"https://raw.githubusercontent.com/biopython/biopython/master/Tests/GenBank/NC_005816.gb\"\n",
        "\n",
        "# Fetch the content of the file\n",
        "response = requests.get(url)\n",
        "response.raise_for_status()  # Ensure we notice bad responses\n",
        "\n",
        "# Read the content using SeqIO\n",
        "file_content = StringIO(response.text)\n",
        "record = SeqIO.read(file_content, \"genbank\")\n",
        "\n",
        "print(record)\n",
        "\n"
      ],
      "metadata": {
        "colab": {
          "base_uri": "https://localhost:8080/"
        },
        "id": "9BPdGf04e6KP",
        "outputId": "0aea884c-132e-4360-87d9-5280a95a6c79"
      },
      "execution_count": 39,
      "outputs": [
        {
          "output_type": "stream",
          "name": "stdout",
          "text": [
            "ID: NC_005816.1\n",
            "Name: NC_005816\n",
            "Description: Yersinia pestis biovar Microtus str. 91001 plasmid pPCP1, complete sequence\n",
            "Database cross-references: Project:58037\n",
            "Number of features: 41\n",
            "/molecule_type=DNA\n",
            "/topology=circular\n",
            "/data_file_division=BCT\n",
            "/date=21-JUL-2008\n",
            "/accessions=['NC_005816']\n",
            "/sequence_version=1\n",
            "/gi=45478711\n",
            "/keywords=['']\n",
            "/source=Yersinia pestis biovar Microtus str. 91001\n",
            "/organism=Yersinia pestis biovar Microtus str. 91001\n",
            "/taxonomy=['Bacteria', 'Proteobacteria', 'Gammaproteobacteria', 'Enterobacteriales', 'Enterobacteriaceae', 'Yersinia']\n",
            "/references=[Reference(title='Genetics of metabolic variations between Yersinia pestis biovars and the proposal of a new biovar, microtus', ...), Reference(title='Complete genome sequence of Yersinia pestis strain 91001, an isolate avirulent to humans', ...), Reference(title='Direct Submission', ...), Reference(title='Direct Submission', ...)]\n",
            "/comment=PROVISIONAL REFSEQ: This record has not yet been subject to final\n",
            "NCBI review. The reference sequence was derived from AE017046.\n",
            "COMPLETENESS: full length.\n",
            "Seq('TGTAACGAACGGTGCAATAGTGATCCACACCCAACGCCTGAAATCAGATCCAGG...CTG')\n",
            "source ['taxon:229193']\n",
            "gene ['GeneID:2767712']\n",
            "CDS ['GI:45478716', 'GeneID:2767712']\n"
          ]
        }
      ]
    },
    {
      "cell_type": "code",
      "source": [
        "for feature in record.features: # Using for loop to iterate through each feature\n",
        "  if my_snp in feature:\n",
        "      print(\"%s %s\" % (feature.type, feature.qualifiers.get(\"db_xref\")))"
      ],
      "metadata": {
        "colab": {
          "base_uri": "https://localhost:8080/"
        },
        "id": "YEVU-16Miy18",
        "outputId": "2d83b22f-5f5e-4b71-c86a-47b30e464516"
      },
      "execution_count": 40,
      "outputs": [
        {
          "output_type": "stream",
          "name": "stdout",
          "text": [
            "source ['taxon:229193']\n",
            "gene ['GeneID:2767712']\n",
            "CDS ['GI:45478716', 'GeneID:2767712']\n"
          ]
        }
      ]
    },
    {
      "cell_type": "markdown",
      "source": [
        "# Sequence described by feature and location"
      ],
      "metadata": {
        "id": "NZF-eOrDlTYn"
      }
    },
    {
      "cell_type": "code",
      "source": [
        "from Bio.Seq import Seq\n",
        "from Bio.SeqFeature import SeqFeature, FeatureLocation\n",
        "\n",
        "# Sample DNA sequence\n",
        "sequence = Seq(\"ATGGCCATTGTAATGGGCCGCTGAAAGGGTGCCCGATAG\")\n",
        "\n",
        "# Annotating coding region\n",
        "coding_region = SeqFeature(FeatureLocation(start=0, end=30), type=\"CDS\")\n",
        "print(f\"Annotated Coding Region: {coding_region.location}\")\n"
      ],
      "metadata": {
        "colab": {
          "base_uri": "https://localhost:8080/"
        },
        "id": "zuxkz20GlNBo",
        "outputId": "a09b4f18-b5a1-4b4c-8179-4e6d6c9647e2"
      },
      "execution_count": 41,
      "outputs": [
        {
          "output_type": "stream",
          "name": "stdout",
          "text": [
            "Annotated Coding Region: [0:30]\n"
          ]
        }
      ]
    },
    {
      "cell_type": "code",
      "source": [],
      "metadata": {
        "id": "QbyQAt1eqSSc"
      },
      "execution_count": null,
      "outputs": []
    }
  ]
}
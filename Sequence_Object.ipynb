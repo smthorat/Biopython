{
  "nbformat": 4,
  "nbformat_minor": 0,
  "metadata": {
    "colab": {
      "provenance": [],
      "authorship_tag": "ABX9TyPaubfPvPWxQ7sOp7QWGrVa",
      "include_colab_link": true
    },
    "kernelspec": {
      "name": "python3",
      "display_name": "Python 3"
    },
    "language_info": {
      "name": "python"
    }
  },
  "cells": [
    {
      "cell_type": "markdown",
      "metadata": {
        "id": "view-in-github",
        "colab_type": "text"
      },
      "source": [
        "<a href=\"https://colab.research.google.com/github/smthorat/Biopython/blob/main/Sequence_Object.ipynb\" target=\"_parent\"><img src=\"https://colab.research.google.com/assets/colab-badge.svg\" alt=\"Open In Colab\"/></a>"
      ]
    },
    {
      "cell_type": "code",
      "execution_count": 4,
      "metadata": {
        "colab": {
          "base_uri": "https://localhost:8080/"
        },
        "id": "T0Rp4zRieJjy",
        "outputId": "f396d6bd-440d-41af-f9c0-f4cb64b608cb"
      },
      "outputs": [
        {
          "output_type": "stream",
          "name": "stdout",
          "text": [
            "Collecting biopython\n",
            "  Downloading biopython-1.83-cp310-cp310-manylinux_2_17_x86_64.manylinux2014_x86_64.whl (3.1 MB)\n",
            "\u001b[2K     \u001b[90m━━━━━━━━━━━━━━━━━━━━━━━━━━━━━━━━━━━━━━━━\u001b[0m \u001b[32m3.1/3.1 MB\u001b[0m \u001b[31m27.0 MB/s\u001b[0m eta \u001b[36m0:00:00\u001b[0m\n",
            "\u001b[?25hRequirement already satisfied: numpy in /usr/local/lib/python3.10/dist-packages (from biopython) (1.25.2)\n",
            "Installing collected packages: biopython\n",
            "Successfully installed biopython-1.83\n"
          ]
        }
      ],
      "source": [
        "!pip install biopython\n",
        "from Bio import SeqIO"
      ]
    },
    {
      "cell_type": "code",
      "source": [
        "from Bio.Seq import Seq\n",
        "my_seq = Seq('AGTACACTGGT')\n",
        "my_seq"
      ],
      "metadata": {
        "id": "tilB1bhhfruJ",
        "colab": {
          "base_uri": "https://localhost:8080/"
        },
        "outputId": "64a50ed7-e10e-4979-fd2d-01e7bb06675a"
      },
      "execution_count": 5,
      "outputs": [
        {
          "output_type": "execute_result",
          "data": {
            "text/plain": [
              "Seq('AGTACACTGGT')"
            ]
          },
          "metadata": {},
          "execution_count": 5
        }
      ]
    },
    {
      "cell_type": "code",
      "source": [
        "print(my_seq)"
      ],
      "metadata": {
        "colab": {
          "base_uri": "https://localhost:8080/"
        },
        "id": "XTl-5NKAl8xt",
        "outputId": "8169e2ed-5275-4f05-e190-206e1ec6c657"
      },
      "execution_count": null,
      "outputs": [
        {
          "output_type": "stream",
          "name": "stdout",
          "text": [
            "AGTACACTGGT\n"
          ]
        }
      ]
    },
    {
      "cell_type": "code",
      "source": [
        "my_seq"
      ],
      "metadata": {
        "colab": {
          "base_uri": "https://localhost:8080/"
        },
        "id": "d2UwMrjDmBH4",
        "outputId": "f350e329-ee2d-466a-ca7a-890e5d49a01a"
      },
      "execution_count": null,
      "outputs": [
        {
          "output_type": "execute_result",
          "data": {
            "text/plain": [
              "Seq('AGTACACTGGT')"
            ]
          },
          "metadata": {},
          "execution_count": 13
        }
      ]
    },
    {
      "cell_type": "code",
      "source": [
        "my_seq.complement()"
      ],
      "metadata": {
        "colab": {
          "base_uri": "https://localhost:8080/"
        },
        "id": "jQkUQy95mMcI",
        "outputId": "45399b8f-e8b3-435a-c04e-cf4317b5b514"
      },
      "execution_count": null,
      "outputs": [
        {
          "output_type": "execute_result",
          "data": {
            "text/plain": [
              "Seq('TCATGTGACCA')"
            ]
          },
          "metadata": {},
          "execution_count": 15
        }
      ]
    },
    {
      "cell_type": "code",
      "source": [
        "my_seq.reverse_complement()"
      ],
      "metadata": {
        "colab": {
          "base_uri": "https://localhost:8080/"
        },
        "id": "kBtVM5yXmRdA",
        "outputId": "ed1b0b54-bac8-4fe6-cf2d-0fdb25d315f9"
      },
      "execution_count": null,
      "outputs": [
        {
          "output_type": "execute_result",
          "data": {
            "text/plain": [
              "Seq('ACCAGTGTACT')"
            ]
          },
          "metadata": {},
          "execution_count": 16
        }
      ]
    },
    {
      "cell_type": "code",
      "source": [
        "from Bio import SeqIO # This module used to reading and writing sequences file formats\n",
        "\n",
        "for seq_record in SeqIO.parse(\"/content/ls_orchid.fasta.txt\", \"fasta\"): # Line starts with for loop, which iterate through each sequences (In this fasta file, we have 94 sequences)\n",
        "# SeqIO.parse this is function that reads and parses the sequence from file\n",
        "# Next is file path and second argument is file format\n",
        "# Importatnly, seq_record is a variable that will hold sequence record object in each iteration of the loop\n",
        "    print(seq_record.id)\n",
        "    print(repr(seq_record.seq))\n",
        "    print(len(seq_record))\n",
        "\n",
        "\n"
      ],
      "metadata": {
        "id": "7NbHdRtdmgtD",
        "colab": {
          "base_uri": "https://localhost:8080/"
        },
        "outputId": "640980e2-ff9b-4cbc-8c86-2191fcf8c938"
      },
      "execution_count": 22,
      "outputs": [
        {
          "output_type": "stream",
          "name": "stdout",
          "text": [
            "gi|2765658|emb|Z78533.1|CIZ78533\n",
            "Seq('CGTAACAAGGTTTCCGTAGGTGAACCTGCGGAAGGATCATTGATGAGACCGTGG...CGC')\n",
            "740\n",
            "gi|2765657|emb|Z78532.1|CCZ78532\n",
            "Seq('CGTAACAAGGTTTCCGTAGGTGAACCTGCGGAAGGATCATTGTTGAGACAACAG...GGC')\n",
            "753\n",
            "gi|2765656|emb|Z78531.1|CFZ78531\n",
            "Seq('CGTAACAAGGTTTCCGTAGGTGAACCTGCGGAAGGATCATTGTTGAGACAGCAG...TAA')\n",
            "748\n",
            "gi|2765655|emb|Z78530.1|CMZ78530\n",
            "Seq('CGTAACAAGGTTTCCGTAGGTGAACCTGCGGAAGGATCATTGTTGAAACAACAT...CAT')\n",
            "744\n",
            "gi|2765654|emb|Z78529.1|CLZ78529\n",
            "Seq('ACGGCGAGCTGCCGAAGGACATTGTTGAGACAGCAGAATATACGATTGAGTGAA...AAA')\n",
            "733\n",
            "gi|2765652|emb|Z78527.1|CYZ78527\n",
            "Seq('CGTAACAAGGTTTCCGTAGGTGAACCTGCGGAAGGATCATTGTTGAGACAGTAG...CCC')\n",
            "718\n",
            "gi|2765651|emb|Z78526.1|CGZ78526\n",
            "Seq('CGTAACAAGGTTTCCGTAGGTGAACCTGCGGAAGGATCATTGTTGAGACAGTAG...TGT')\n",
            "730\n",
            "gi|2765650|emb|Z78525.1|CAZ78525\n",
            "Seq('TGTTGAGATAGCAGAATATACATCGAGTGAATCCGGAGGACCTGTGGTTATTCG...GCA')\n",
            "704\n",
            "gi|2765649|emb|Z78524.1|CFZ78524\n",
            "Seq('CGTAACAAGGTTTCCGTAGGTGAACCTGCGGAAGGATCATTGTTGAGATAGTAG...AGC')\n",
            "740\n",
            "gi|2765648|emb|Z78523.1|CHZ78523\n",
            "Seq('CGTAACCAGGTTTCCGTAGGTGAACCTGCGGCAGGATCATTGTTGAGACAGCAG...AAG')\n",
            "709\n",
            "gi|2765647|emb|Z78522.1|CMZ78522\n",
            "Seq('CGTAACAAGGTTTCCGTAGGTGAACCTGCGGAAGGATCATTGTTGAGACAGCAG...GAG')\n",
            "700\n",
            "gi|2765646|emb|Z78521.1|CCZ78521\n",
            "Seq('GTAGGTGAACCTGCGGAAGGATCATTGTTGAGACAGTAGAATATATGATCGAGT...ACC')\n",
            "726\n",
            "gi|2765645|emb|Z78520.1|CSZ78520\n",
            "Seq('CGTAACAAGGTTTCCGTAGGTGAACCTGCGGAAGGATCATTGTTGAGACAGCAG...TTT')\n",
            "753\n",
            "gi|2765644|emb|Z78519.1|CPZ78519\n",
            "Seq('ATATGATCGAGTGAATCTGGTGGACTTGTGGTTACTCAGCTCGCCATAGGCTTT...TTA')\n",
            "699\n",
            "gi|2765643|emb|Z78518.1|CRZ78518\n",
            "Seq('CGTAACAAGGTTTCCGTAGGTGAACCTGCGGGAGGATCATTGTTGAGATAGTAG...TCC')\n",
            "658\n",
            "gi|2765642|emb|Z78517.1|CFZ78517\n",
            "Seq('CGTAACAAGGTTTCCGTAGGTGAACCTGCGGAAGGATCATTGTTGAGACAGTAG...AGC')\n",
            "752\n",
            "gi|2765641|emb|Z78516.1|CPZ78516\n",
            "Seq('CGTAACAAGGTTTCCGTAGGTGAACCTGCGGAAGGATCATTGTTGAGACAGTAT...TAA')\n",
            "726\n",
            "gi|2765640|emb|Z78515.1|MXZ78515\n",
            "Seq('CGTAACAAGGTTTCCGTAGGTGAACCTGCGGAAGGATCATTGCTGAGACCGTAG...AGC')\n",
            "765\n",
            "gi|2765639|emb|Z78514.1|PSZ78514\n",
            "Seq('CGTAACAAGGTTTCCGTAGGTGGACCTTCGGGAGGATCATTTTTGAAGCCCCCA...CTA')\n",
            "755\n",
            "gi|2765638|emb|Z78513.1|PBZ78513\n",
            "Seq('CGTAACAAGGTTTCCGTAGGTGAACCTGCGGAAGGATCATTGTTGAGACCGCCA...GAG')\n",
            "742\n",
            "gi|2765637|emb|Z78512.1|PWZ78512\n",
            "Seq('CGTAACAAGGTTTCCGTAGGTGGACCTTCGGGAGGATCATTTTTGAAGCCCCCA...AGC')\n",
            "762\n",
            "gi|2765636|emb|Z78511.1|PEZ78511\n",
            "Seq('CGTAACAAGGTTTCCGTAGGTGAACCTTCGGAAGGATCATTGTTGAGACCCCCA...GGA')\n",
            "745\n",
            "gi|2765635|emb|Z78510.1|PCZ78510\n",
            "Seq('CTAACCAGGGTTCCGAGGTGACCTTCGGGAGGATTCCTTTTTAAGCCCCCGAAA...TTA')\n",
            "750\n",
            "gi|2765634|emb|Z78509.1|PPZ78509\n",
            "Seq('CGTAACAAGGTTTCCGTAGGTGAACCTGCGGAAGGATCATTGTTGAGACCGCCA...GGA')\n",
            "731\n",
            "gi|2765633|emb|Z78508.1|PLZ78508\n",
            "Seq('CGTAACAAGGTTTCCGTAGGTGAACCTGCGGAAGGATCATTGTTGAGACCGCCA...TGA')\n",
            "741\n",
            "gi|2765632|emb|Z78507.1|PLZ78507\n",
            "Seq('CGTAACAAGGTTTCCGTAGGTGAACCTGCGGAAGGATCATTGTTGAGACCCCCA...TGA')\n",
            "740\n",
            "gi|2765631|emb|Z78506.1|PLZ78506\n",
            "Seq('CGTAACAAGGTTTCCGTAGGTGAACCTGCGGAAGGATCATTGTTGAGACCGCAA...TGA')\n",
            "727\n",
            "gi|2765630|emb|Z78505.1|PSZ78505\n",
            "Seq('CGTAACAAGGTTTCCGTAGGTGAACCTGCGGAAGGATCATTGTTGAGACCGCCA...TTT')\n",
            "711\n",
            "gi|2765629|emb|Z78504.1|PKZ78504\n",
            "Seq('CGTAACAAGGTTTCCGTAGGTGAACCTTCGGAAGGATCATTGTTGAGACCGCAA...TAA')\n",
            "743\n",
            "gi|2765628|emb|Z78503.1|PCZ78503\n",
            "Seq('CGTAACCAGGTTTCCGTAGGTGAACCTCCGGAAGGATCCTTGTTGAGACCGCCA...TAA')\n",
            "727\n",
            "gi|2765627|emb|Z78502.1|PBZ78502\n",
            "Seq('CGTAACCAGGTTTCCGTAGGTGAACCTCCGGAAGGATCATTGTTGAGACCGCCA...CGC')\n",
            "757\n",
            "gi|2765626|emb|Z78501.1|PCZ78501\n",
            "Seq('CGTAACAAGGTTTCCGTAGGTGAACCTGCGGAAGGATCATTGTTGAGACCGCAA...AGA')\n",
            "770\n",
            "gi|2765625|emb|Z78500.1|PWZ78500\n",
            "Seq('CGTAACAAGGTTTCCGTAGGTGAACCTGCGGAAGGCTCATTGTTGAGACCGCAA...AAG')\n",
            "767\n",
            "gi|2765624|emb|Z78499.1|PMZ78499\n",
            "Seq('CGTAACAAGGTTTCCGTAGGTGAACCTGCGGAGGGATCATTGTTGAGATCGCAT...ACC')\n",
            "759\n",
            "gi|2765623|emb|Z78498.1|PMZ78498\n",
            "Seq('CGTAACAAGGTTTCCGTAGGTGAACCTGCGGAAAGGTCATTGTTGAGATCACAT...AGC')\n",
            "750\n",
            "gi|2765622|emb|Z78497.1|PDZ78497\n",
            "Seq('CGTAACAAGGTTTCCGTAGGTGAACCTGCGGAAGGATCATTGTTGAGATCACAT...AGC')\n",
            "788\n",
            "gi|2765621|emb|Z78496.1|PAZ78496\n",
            "Seq('CGTAACAAGGTTTCCGTAGGTGAACCTGCGGAAGGATCATTGTTGAGATCGCAT...AGC')\n",
            "774\n",
            "gi|2765620|emb|Z78495.1|PEZ78495\n",
            "Seq('CGTAACAAGGTTTCCGTAGGTGAACCTCCGGAAGGATCATTGTTGAGATCACAT...GTG')\n",
            "789\n",
            "gi|2765619|emb|Z78494.1|PNZ78494\n",
            "Seq('CGTAACAAGGTTTCCGTAGGTGAACCTGCGGAAGGATCATTGTTGAGGTCGCAT...AAG')\n",
            "688\n",
            "gi|2765618|emb|Z78493.1|PGZ78493\n",
            "Seq('CGTAACAAGGATTCCGTAGGTGAACCTGCGGAAGGATCATTGTTGAGATCGCAT...CCC')\n",
            "719\n",
            "gi|2765617|emb|Z78492.1|PBZ78492\n",
            "Seq('CGTAACAAGGTTTCCGTAGGTGAACCTGCGGAAGGATCATTGTTGAGATCGCAT...ATA')\n",
            "743\n",
            "gi|2765616|emb|Z78491.1|PCZ78491\n",
            "Seq('CGTAACAAGGTTTCCGTAGGTGAACCTGCGGAAGGATCATTGTTGAGATCGCAT...AGC')\n",
            "737\n",
            "gi|2765615|emb|Z78490.1|PFZ78490\n",
            "Seq('CGTAACAAGGTTTCCGTAGGTGAACCTGCGGAAGGATCATTGTTGAGATCACAT...TGA')\n",
            "728\n",
            "gi|2765614|emb|Z78489.1|PDZ78489\n",
            "Seq('CGTAACAAGGTTTCCGTAGGTGAACCTGCGGAAGGATCATTGTTGAGATCACAT...GGC')\n",
            "740\n",
            "gi|2765613|emb|Z78488.1|PTZ78488\n",
            "Seq('CTGTAGGTGAACCTGCGGAAGGATCATTGTTGAGATCACGCAATAATTGATCGA...GCT')\n",
            "696\n",
            "gi|2765612|emb|Z78487.1|PHZ78487\n",
            "Seq('CGTAACAAGGTTTCCGTAGGTGAACCTGCGGAAGGATCATTGTTGAGATCACAT...TAA')\n",
            "732\n",
            "gi|2765611|emb|Z78486.1|PBZ78486\n",
            "Seq('CGTCACGAGGTTTCCGTAGGTGAATCTGCGGGAGGATCATTGTTGAGATCACAT...TGA')\n",
            "731\n",
            "gi|2765610|emb|Z78485.1|PHZ78485\n",
            "Seq('CTGAACCTGGTGTCCGAAGGTGAATCTGCGGATGGATCATTGTTGAGATATCAT...GTA')\n",
            "735\n",
            "gi|2765609|emb|Z78484.1|PCZ78484\n",
            "Seq('CGTAACAAGGTTTCCGTAGGTGAACCTGGGGAAGGATCATTGTTGAGATCACAT...TTT')\n",
            "720\n",
            "gi|2765608|emb|Z78483.1|PVZ78483\n",
            "Seq('CGTAACAAGGTTTCCGTAGGTGAACCTGCGGAAGGATCATTGTTGAGATCACAT...GCA')\n",
            "740\n",
            "gi|2765607|emb|Z78482.1|PEZ78482\n",
            "Seq('TCTACTGCAGTGACCGAGATTTGCCATCGAGCCTCCTGGGAGCTTTCTTGCTGG...GCA')\n",
            "629\n",
            "gi|2765606|emb|Z78481.1|PIZ78481\n",
            "Seq('CGTAACAAGGTTTCCGTAGGTGAACCTGCGGAAGGATCATTGTTGAGATCACAT...TGA')\n",
            "572\n",
            "gi|2765605|emb|Z78480.1|PGZ78480\n",
            "Seq('CGTAACAAGGTTTCCGTAGGTGAACCTGCGGAAGGATCATTGTTGAGATCACAT...TGA')\n",
            "587\n",
            "gi|2765604|emb|Z78479.1|PPZ78479\n",
            "Seq('CGTAACAAGGTTTCCGTAGGTGAACCTGCGGAAGGATCATTGTTGAGATCACAT...AGT')\n",
            "700\n",
            "gi|2765603|emb|Z78478.1|PVZ78478\n",
            "Seq('CGTAACAAGGTTTCCGTAGGTGAACCTCCGGAAGGATCAGTGTTGAGATCACAT...GGC')\n",
            "636\n",
            "gi|2765602|emb|Z78477.1|PVZ78477\n",
            "Seq('CGTAACAAGGTTTCCGTAGGTGAACCTGCGGAAGGATCATTGTTGAGATCACAT...TGC')\n",
            "716\n",
            "gi|2765601|emb|Z78476.1|PGZ78476\n",
            "Seq('CGTAACAAGGTTTCCGTAGGTGAACCTGCGGAAGGATCATTGTTGAGATCACAT...CCC')\n",
            "592\n",
            "gi|2765600|emb|Z78475.1|PSZ78475\n",
            "Seq('CGTAACAAGGTTTCCGTAGGTGAACCTGCGGAAGGATCATTGTTGAGATCACAT...GGT')\n",
            "716\n",
            "gi|2765599|emb|Z78474.1|PKZ78474\n",
            "Seq('CGTAACAAGGTTTCCGTAGGTGAACCTGCGGAAGGATCATTGTTGAGATCACGT...CTT')\n",
            "733\n",
            "gi|2765598|emb|Z78473.1|PSZ78473\n",
            "Seq('CGTAACAAGGTTTCCGTAGGTGAACCTGCGGAAGGATCATTGTTGAGATCACAT...AGG')\n",
            "626\n",
            "gi|2765597|emb|Z78472.1|PLZ78472\n",
            "Seq('CGTAACAAGGTTTCCGTAGGTGAACCTGCGGAAGGATCATTGTTGAGATCACAT...AGC')\n",
            "737\n",
            "gi|2765596|emb|Z78471.1|PDZ78471\n",
            "Seq('CGTAACAAGGTTTCCGTAGGTGAACCTGCGGAAGGATCATTGTTGAGATCACAT...AGC')\n",
            "740\n",
            "gi|2765595|emb|Z78470.1|PPZ78470\n",
            "Seq('CGTAACAAGGTTTCCGTAGGTGAACCTGCGGAAGGATCATTGTTGAGATCACAT...GTT')\n",
            "574\n",
            "gi|2765594|emb|Z78469.1|PHZ78469\n",
            "Seq('CGTAACAAGGTTTCCGTAGGTGAACCTGCGGAAGGATCATTGTTGAGATCACAT...GTT')\n",
            "594\n",
            "gi|2765593|emb|Z78468.1|PAZ78468\n",
            "Seq('CGTAACAAGGTTTCCGTAGGTGAACCTGCGGAAGGATCATTGTTGAGATCGCAT...GTT')\n",
            "610\n",
            "gi|2765592|emb|Z78467.1|PSZ78467\n",
            "Seq('CGTAACAAGGTTTCCGTAGGTGAACCTGCGGAAGGATCATTGTTGAGATCACAT...TGA')\n",
            "730\n",
            "gi|2765591|emb|Z78466.1|PPZ78466\n",
            "Seq('CGTAACAAGGTTTCCGTAGGTGAACCTGCGGAAGGATCATTGTTGAGATCACAT...CCC')\n",
            "641\n",
            "gi|2765590|emb|Z78465.1|PRZ78465\n",
            "Seq('CGTAACAAGGTTTCCGTAGGTGAACCTGCGGAAGGATCATTGTTGAGATCACAT...TGC')\n",
            "702\n",
            "gi|2765589|emb|Z78464.1|PGZ78464\n",
            "Seq('CGTAACAAGGTTTCCGTAGGTGAGCGGAAGGGTCATTGTTGAGATCACATAATA...AGC')\n",
            "733\n",
            "gi|2765588|emb|Z78463.1|PGZ78463\n",
            "Seq('CGTAACAAGGTTTCCGTAGGTGAACCTGCGGAAGGTTCATTGTTGAGATCACAT...AGC')\n",
            "738\n",
            "gi|2765587|emb|Z78462.1|PSZ78462\n",
            "Seq('CGTCACGAGGTCTCCGGATGTGACCCTGCGGAAGGATCATTGTTGAGATCACAT...CAT')\n",
            "736\n",
            "gi|2765586|emb|Z78461.1|PWZ78461\n",
            "Seq('CGTAACAAGGTTTCCGTAGGTGAACCTCCGGAAGGATCATTGTTGAGATCACAT...TAA')\n",
            "732\n",
            "gi|2765585|emb|Z78460.1|PCZ78460\n",
            "Seq('CGTAACAAGGTTTCCGTAGGTGAACCTCCGGAAGGATCATTGTTGAGATCACAT...TTA')\n",
            "745\n",
            "gi|2765584|emb|Z78459.1|PDZ78459\n",
            "Seq('CGTAACAAGGTTTCCGTAGGTGAACCTGCGGAAGGATCATTGTTGAGATCACAT...TTT')\n",
            "744\n",
            "gi|2765583|emb|Z78458.1|PHZ78458\n",
            "Seq('CGTAACAAGGTTTCCGTAGGTGAACCTGCGGAAGGATCATTGTTGAGATCACAT...TTG')\n",
            "738\n",
            "gi|2765582|emb|Z78457.1|PCZ78457\n",
            "Seq('CGTAACAAGGTTTCCGTAGGTGAACCTCCGGAAGGATCATTGTTGAGATCACAT...GAG')\n",
            "739\n",
            "gi|2765581|emb|Z78456.1|PTZ78456\n",
            "Seq('CGTAACAAGGTTTCCGTAGGTGAACCTGCGGAAGGATCATTGTTGAGATCACAT...AGC')\n",
            "740\n",
            "gi|2765580|emb|Z78455.1|PJZ78455\n",
            "Seq('CGTAACCAGGTTTCCGTAGGTGGACCTTCGGGAGGATCATTTTTGAGATCACAT...GCA')\n",
            "745\n",
            "gi|2765579|emb|Z78454.1|PFZ78454\n",
            "Seq('CGTAACAAGGTTTCCGTAGGTGAACCTGCGGAAGGATCATTGTTGAGATCACAT...AAC')\n",
            "695\n",
            "gi|2765578|emb|Z78453.1|PSZ78453\n",
            "Seq('CGTAACAAGGTTTCCGTAGGTGAACCTGCGGAAGGATCATTGTTGAGATCACAT...GCA')\n",
            "745\n",
            "gi|2765577|emb|Z78452.1|PBZ78452\n",
            "Seq('CGTAACAAGGTTTCCGTAGGTGAACCTGCGGAAGGATCATTGTTGAGATCACAT...GCA')\n",
            "743\n",
            "gi|2765576|emb|Z78451.1|PHZ78451\n",
            "Seq('CGTAACAAGGTTTCCGTAGGTGTACCTCCGGAAGGATCATTGTTGAGATCACAT...AGC')\n",
            "730\n",
            "gi|2765575|emb|Z78450.1|PPZ78450\n",
            "Seq('GGAAGGATCATTGCTGATATCACATAATAATTGATCGAGTTAAGCTGGAGGATC...GAG')\n",
            "706\n",
            "gi|2765574|emb|Z78449.1|PMZ78449\n",
            "Seq('CGTAACAAGGTTTCCGTAGGTGAACCTGCGGAAGGATCATTGTTGAGATCACAT...TGC')\n",
            "744\n",
            "gi|2765573|emb|Z78448.1|PAZ78448\n",
            "Seq('CGTAACAAGGTTTCCGTAGGTGAACCTGCGGAAGGATCATTGTTGAGATCACAT...AGG')\n",
            "742\n",
            "gi|2765572|emb|Z78447.1|PVZ78447\n",
            "Seq('CGTAACAAGGATTCCGTAGGTGAACCTGCGGGAGGATCATTGTTGAGATCACAT...AGC')\n",
            "694\n",
            "gi|2765571|emb|Z78446.1|PAZ78446\n",
            "Seq('CGTAACAAGGTTTCCGTAGGTGAACCTCCGGAAGGATCATTGTTGAGATCACAT...CCC')\n",
            "712\n",
            "gi|2765570|emb|Z78445.1|PUZ78445\n",
            "Seq('CGTAACAAGGTTTCCGTAGGTGAACCTGCGGAAGGATCATTGTTGAGATCACAT...TGT')\n",
            "715\n",
            "gi|2765569|emb|Z78444.1|PAZ78444\n",
            "Seq('CGTAACAAGGTTTCCGTAGGGTGAACTGCGGAAGGATCATTGTTGAGATCACAT...ATT')\n",
            "688\n",
            "gi|2765568|emb|Z78443.1|PLZ78443\n",
            "Seq('CGTAACAAGGTTTCCGTAGGTGAACCTGCGGAAGGATCATTGTTGAGATCACAT...AGG')\n",
            "784\n",
            "gi|2765567|emb|Z78442.1|PBZ78442\n",
            "Seq('GTAGGTGAACCTGCGGAAGGATCATTGTTGAGATCACATAATAATTGATCGAGT...AGT')\n",
            "721\n",
            "gi|2765566|emb|Z78441.1|PSZ78441\n",
            "Seq('GGAAGGTCATTGCCGATATCACATAATAATTGATCGAGTTAATCTGGAGGATCT...GAG')\n",
            "703\n",
            "gi|2765565|emb|Z78440.1|PPZ78440\n",
            "Seq('CGTAACAAGGTTTCCGTAGGTGGACCTCCGGGAGGATCATTGTTGAGATCACAT...GCA')\n",
            "744\n",
            "gi|2765564|emb|Z78439.1|PBZ78439\n",
            "Seq('CATTGTTGAGATCACATAATAATTGATCGAGTTAATCTGGAGGATCTGTTTACT...GCC')\n",
            "592\n"
          ]
        }
      ]
    },
    {
      "cell_type": "markdown",
      "source": [
        "# Simple Gene bank Parsing file"
      ],
      "metadata": {
        "id": "Nbh2EUc8ubFu"
      }
    },
    {
      "cell_type": "code",
      "source": [
        "from Bio import SeqIO\n",
        "for seq_record in SeqIO.parse(\"/content/ls_orchid.gbk.txt\", 'genbank'):\n",
        "  print(seq_record.id)\n",
        "  print(repr(seq_record.seq))\n",
        "  print(len(seq_record))\n"
      ],
      "metadata": {
        "colab": {
          "base_uri": "https://localhost:8080/"
        },
        "id": "ThYI-XA5qges",
        "outputId": "88cf3cd1-6550-4ff4-8f89-03c5f6c9081f"
      },
      "execution_count": 25,
      "outputs": [
        {
          "output_type": "stream",
          "name": "stdout",
          "text": [
            "Z78533.1\n",
            "Seq('CGTAACAAGGTTTCCGTAGGTGAACCTGCGGAAGGATCATTGATGAGACCGTGG...CGC')\n",
            "740\n",
            "Z78532.1\n",
            "Seq('CGTAACAAGGTTTCCGTAGGTGAACCTGCGGAAGGATCATTGTTGAGACAACAG...GGC')\n",
            "753\n",
            "Z78531.1\n",
            "Seq('CGTAACAAGGTTTCCGTAGGTGAACCTGCGGAAGGATCATTGTTGAGACAGCAG...TAA')\n",
            "748\n",
            "Z78530.1\n",
            "Seq('CGTAACAAGGTTTCCGTAGGTGAACCTGCGGAAGGATCATTGTTGAAACAACAT...CAT')\n",
            "744\n",
            "Z78529.1\n",
            "Seq('ACGGCGAGCTGCCGAAGGACATTGTTGAGACAGCAGAATATACGATTGAGTGAA...AAA')\n",
            "733\n",
            "Z78527.1\n",
            "Seq('CGTAACAAGGTTTCCGTAGGTGAACCTGCGGAAGGATCATTGTTGAGACAGTAG...CCC')\n",
            "718\n",
            "Z78526.1\n",
            "Seq('CGTAACAAGGTTTCCGTAGGTGAACCTGCGGAAGGATCATTGTTGAGACAGTAG...TGT')\n",
            "730\n",
            "Z78525.1\n",
            "Seq('TGTTGAGATAGCAGAATATACATCGAGTGAATCCGGAGGACCTGTGGTTATTCG...GCA')\n",
            "704\n",
            "Z78524.1\n",
            "Seq('CGTAACAAGGTTTCCGTAGGTGAACCTGCGGAAGGATCATTGTTGAGATAGTAG...AGC')\n",
            "740\n",
            "Z78523.1\n",
            "Seq('CGTAACCAGGTTTCCGTAGGTGAACCTGCGGCAGGATCATTGTTGAGACAGCAG...AAG')\n",
            "709\n",
            "Z78522.1\n",
            "Seq('CGTAACAAGGTTTCCGTAGGTGAACCTGCGGAAGGATCATTGTTGAGACAGCAG...GAG')\n",
            "700\n",
            "Z78521.1\n",
            "Seq('GTAGGTGAACCTGCGGAAGGATCATTGTTGAGACAGTAGAATATATGATCGAGT...ACC')\n",
            "726\n",
            "Z78520.1\n",
            "Seq('CGTAACAAGGTTTCCGTAGGTGAACCTGCGGAAGGATCATTGTTGAGACAGCAG...TTT')\n",
            "753\n",
            "Z78519.1\n",
            "Seq('ATATGATCGAGTGAATCTGGTGGACTTGTGGTTACTCAGCTCGCCATAGGCTTT...TTA')\n",
            "699\n",
            "Z78518.1\n",
            "Seq('CGTAACAAGGTTTCCGTAGGTGAACCTGCGGGAGGATCATTGTTGAGATAGTAG...TCC')\n",
            "658\n",
            "Z78517.1\n",
            "Seq('CGTAACAAGGTTTCCGTAGGTGAACCTGCGGAAGGATCATTGTTGAGACAGTAG...AGC')\n",
            "752\n",
            "Z78516.1\n",
            "Seq('CGTAACAAGGTTTCCGTAGGTGAACCTGCGGAAGGATCATTGTTGAGACAGTAT...TAA')\n",
            "726\n",
            "Z78515.1\n",
            "Seq('CGTAACAAGGTTTCCGTAGGTGAACCTGCGGAAGGATCATTGCTGAGACCGTAG...AGC')\n",
            "765\n",
            "Z78514.1\n",
            "Seq('CGTAACAAGGTTTCCGTAGGTGGACCTTCGGGAGGATCATTTTTGAAGCCCCCA...CTA')\n",
            "755\n",
            "Z78513.1\n",
            "Seq('CGTAACAAGGTTTCCGTAGGTGAACCTGCGGAAGGATCATTGTTGAGACCGCCA...GAG')\n",
            "742\n",
            "Z78512.1\n",
            "Seq('CGTAACAAGGTTTCCGTAGGTGGACCTTCGGGAGGATCATTTTTGAAGCCCCCA...AGC')\n",
            "762\n",
            "Z78511.1\n",
            "Seq('CGTAACAAGGTTTCCGTAGGTGAACCTTCGGAAGGATCATTGTTGAGACCCCCA...GGA')\n",
            "745\n",
            "Z78510.1\n",
            "Seq('CTAACCAGGGTTCCGAGGTGACCTTCGGGAGGATTCCTTTTTAAGCCCCCGAAA...TTA')\n",
            "750\n",
            "Z78509.1\n",
            "Seq('CGTAACAAGGTTTCCGTAGGTGAACCTGCGGAAGGATCATTGTTGAGACCGCCA...GGA')\n",
            "731\n",
            "Z78508.1\n",
            "Seq('CGTAACAAGGTTTCCGTAGGTGAACCTGCGGAAGGATCATTGTTGAGACCGCCA...TGA')\n",
            "741\n",
            "Z78507.1\n",
            "Seq('CGTAACAAGGTTTCCGTAGGTGAACCTGCGGAAGGATCATTGTTGAGACCCCCA...TGA')\n",
            "740\n",
            "Z78506.1\n",
            "Seq('CGTAACAAGGTTTCCGTAGGTGAACCTGCGGAAGGATCATTGTTGAGACCGCAA...TGA')\n",
            "727\n",
            "Z78505.1\n",
            "Seq('CGTAACAAGGTTTCCGTAGGTGAACCTGCGGAAGGATCATTGTTGAGACCGCCA...TTT')\n",
            "711\n",
            "Z78504.1\n",
            "Seq('CGTAACAAGGTTTCCGTAGGTGAACCTTCGGAAGGATCATTGTTGAGACCGCAA...TAA')\n",
            "743\n",
            "Z78503.1\n",
            "Seq('CGTAACCAGGTTTCCGTAGGTGAACCTCCGGAAGGATCCTTGTTGAGACCGCCA...TAA')\n",
            "727\n",
            "Z78502.1\n",
            "Seq('CGTAACCAGGTTTCCGTAGGTGAACCTCCGGAAGGATCATTGTTGAGACCGCCA...CGC')\n",
            "757\n",
            "Z78501.1\n",
            "Seq('CGTAACAAGGTTTCCGTAGGTGAACCTGCGGAAGGATCATTGTTGAGACCGCAA...AGA')\n",
            "770\n",
            "Z78500.1\n",
            "Seq('CGTAACAAGGTTTCCGTAGGTGAACCTGCGGAAGGCTCATTGTTGAGACCGCAA...AAG')\n",
            "767\n",
            "Z78499.1\n",
            "Seq('CGTAACAAGGTTTCCGTAGGTGAACCTGCGGAGGGATCATTGTTGAGATCGCAT...ACC')\n",
            "759\n",
            "Z78498.1\n",
            "Seq('CGTAACAAGGTTTCCGTAGGTGAACCTGCGGAAAGGTCATTGTTGAGATCACAT...AGC')\n",
            "750\n",
            "Z78497.1\n",
            "Seq('CGTAACAAGGTTTCCGTAGGTGAACCTGCGGAAGGATCATTGTTGAGATCACAT...AGC')\n",
            "788\n",
            "Z78496.1\n",
            "Seq('CGTAACAAGGTTTCCGTAGGTGAACCTGCGGAAGGATCATTGTTGAGATCGCAT...AGC')\n",
            "774\n",
            "Z78495.1\n",
            "Seq('CGTAACAAGGTTTCCGTAGGTGAACCTCCGGAAGGATCATTGTTGAGATCACAT...GTG')\n",
            "789\n",
            "Z78494.1\n",
            "Seq('CGTAACAAGGTTTCCGTAGGTGAACCTGCGGAAGGATCATTGTTGAGGTCGCAT...AAG')\n",
            "688\n",
            "Z78493.1\n",
            "Seq('CGTAACAAGGATTCCGTAGGTGAACCTGCGGAAGGATCATTGTTGAGATCGCAT...CCC')\n",
            "719\n",
            "Z78492.1\n",
            "Seq('CGTAACAAGGTTTCCGTAGGTGAACCTGCGGAAGGATCATTGTTGAGATCGCAT...ATA')\n",
            "743\n",
            "Z78491.1\n",
            "Seq('CGTAACAAGGTTTCCGTAGGTGAACCTGCGGAAGGATCATTGTTGAGATCGCAT...AGC')\n",
            "737\n",
            "Z78490.1\n",
            "Seq('CGTAACAAGGTTTCCGTAGGTGAACCTGCGGAAGGATCATTGTTGAGATCACAT...TGA')\n",
            "728\n",
            "Z78489.1\n",
            "Seq('CGTAACAAGGTTTCCGTAGGTGAACCTGCGGAAGGATCATTGTTGAGATCACAT...GGC')\n",
            "740\n",
            "Z78488.1\n",
            "Seq('CTGTAGGTGAACCTGCGGAAGGATCATTGTTGAGATCACGCAATAATTGATCGA...GCT')\n",
            "696\n",
            "Z78487.1\n",
            "Seq('CGTAACAAGGTTTCCGTAGGTGAACCTGCGGAAGGATCATTGTTGAGATCACAT...TAA')\n",
            "732\n",
            "Z78486.1\n",
            "Seq('CGTCACGAGGTTTCCGTAGGTGAATCTGCGGGAGGATCATTGTTGAGATCACAT...TGA')\n",
            "731\n",
            "Z78485.1\n",
            "Seq('CTGAACCTGGTGTCCGAAGGTGAATCTGCGGATGGATCATTGTTGAGATATCAT...GTA')\n",
            "735\n",
            "Z78484.1\n",
            "Seq('CGTAACAAGGTTTCCGTAGGTGAACCTGGGGAAGGATCATTGTTGAGATCACAT...TTT')\n",
            "720\n",
            "Z78483.1\n",
            "Seq('CGTAACAAGGTTTCCGTAGGTGAACCTGCGGAAGGATCATTGTTGAGATCACAT...GCA')\n",
            "740\n",
            "Z78482.1\n",
            "Seq('TCTACTGCAGTGACCGAGATTTGCCATCGAGCCTCCTGGGAGCTTTCTTGCTGG...GCA')\n",
            "629\n",
            "Z78481.1\n",
            "Seq('CGTAACAAGGTTTCCGTAGGTGAACCTGCGGAAGGATCATTGTTGAGATCACAT...TGA')\n",
            "572\n",
            "Z78480.1\n",
            "Seq('CGTAACAAGGTTTCCGTAGGTGAACCTGCGGAAGGATCATTGTTGAGATCACAT...TGA')\n",
            "587\n",
            "Z78479.1\n",
            "Seq('CGTAACAAGGTTTCCGTAGGTGAACCTGCGGAAGGATCATTGTTGAGATCACAT...AGT')\n",
            "700\n",
            "Z78478.1\n",
            "Seq('CGTAACAAGGTTTCCGTAGGTGAACCTCCGGAAGGATCAGTGTTGAGATCACAT...GGC')\n",
            "636\n",
            "Z78477.1\n",
            "Seq('CGTAACAAGGTTTCCGTAGGTGAACCTGCGGAAGGATCATTGTTGAGATCACAT...TGC')\n",
            "716\n",
            "Z78476.1\n",
            "Seq('CGTAACAAGGTTTCCGTAGGTGAACCTGCGGAAGGATCATTGTTGAGATCACAT...CCC')\n",
            "592\n",
            "Z78475.1\n",
            "Seq('CGTAACAAGGTTTCCGTAGGTGAACCTGCGGAAGGATCATTGTTGAGATCACAT...GGT')\n",
            "716\n",
            "Z78474.1\n",
            "Seq('CGTAACAAGGTTTCCGTAGGTGAACCTGCGGAAGGATCATTGTTGAGATCACGT...CTT')\n",
            "733\n",
            "Z78473.1\n",
            "Seq('CGTAACAAGGTTTCCGTAGGTGAACCTGCGGAAGGATCATTGTTGAGATCACAT...AGG')\n",
            "626\n",
            "Z78472.1\n",
            "Seq('CGTAACAAGGTTTCCGTAGGTGAACCTGCGGAAGGATCATTGTTGAGATCACAT...AGC')\n",
            "737\n",
            "Z78471.1\n",
            "Seq('CGTAACAAGGTTTCCGTAGGTGAACCTGCGGAAGGATCATTGTTGAGATCACAT...AGC')\n",
            "740\n",
            "Z78470.1\n",
            "Seq('CGTAACAAGGTTTCCGTAGGTGAACCTGCGGAAGGATCATTGTTGAGATCACAT...GTT')\n",
            "574\n",
            "Z78469.1\n",
            "Seq('CGTAACAAGGTTTCCGTAGGTGAACCTGCGGAAGGATCATTGTTGAGATCACAT...GTT')\n",
            "594\n",
            "Z78468.1\n",
            "Seq('CGTAACAAGGTTTCCGTAGGTGAACCTGCGGAAGGATCATTGTTGAGATCGCAT...GTT')\n",
            "610\n",
            "Z78467.1\n",
            "Seq('CGTAACAAGGTTTCCGTAGGTGAACCTGCGGAAGGATCATTGTTGAGATCACAT...TGA')\n",
            "730\n",
            "Z78466.1\n",
            "Seq('CGTAACAAGGTTTCCGTAGGTGAACCTGCGGAAGGATCATTGTTGAGATCACAT...CCC')\n",
            "641\n",
            "Z78465.1\n",
            "Seq('CGTAACAAGGTTTCCGTAGGTGAACCTGCGGAAGGATCATTGTTGAGATCACAT...TGC')\n",
            "702\n",
            "Z78464.1\n",
            "Seq('CGTAACAAGGTTTCCGTAGGTGAGCGGAAGGGTCATTGTTGAGATCACATAATA...AGC')\n",
            "733\n",
            "Z78463.1\n",
            "Seq('CGTAACAAGGTTTCCGTAGGTGAACCTGCGGAAGGTTCATTGTTGAGATCACAT...AGC')\n",
            "738\n",
            "Z78462.1\n",
            "Seq('CGTCACGAGGTCTCCGGATGTGACCCTGCGGAAGGATCATTGTTGAGATCACAT...CAT')\n",
            "736\n",
            "Z78461.1\n",
            "Seq('CGTAACAAGGTTTCCGTAGGTGAACCTCCGGAAGGATCATTGTTGAGATCACAT...TAA')\n",
            "732\n",
            "Z78460.1\n",
            "Seq('CGTAACAAGGTTTCCGTAGGTGAACCTCCGGAAGGATCATTGTTGAGATCACAT...TTA')\n",
            "745\n",
            "Z78459.1\n",
            "Seq('CGTAACAAGGTTTCCGTAGGTGAACCTGCGGAAGGATCATTGTTGAGATCACAT...TTT')\n",
            "744\n",
            "Z78458.1\n",
            "Seq('CGTAACAAGGTTTCCGTAGGTGAACCTGCGGAAGGATCATTGTTGAGATCACAT...TTG')\n",
            "738\n",
            "Z78457.1\n",
            "Seq('CGTAACAAGGTTTCCGTAGGTGAACCTCCGGAAGGATCATTGTTGAGATCACAT...GAG')\n",
            "739\n",
            "Z78456.1\n",
            "Seq('CGTAACAAGGTTTCCGTAGGTGAACCTGCGGAAGGATCATTGTTGAGATCACAT...AGC')\n",
            "740\n",
            "Z78455.1\n",
            "Seq('CGTAACCAGGTTTCCGTAGGTGGACCTTCGGGAGGATCATTTTTGAGATCACAT...GCA')\n",
            "745\n",
            "Z78454.1\n",
            "Seq('CGTAACAAGGTTTCCGTAGGTGAACCTGCGGAAGGATCATTGTTGAGATCACAT...AAC')\n",
            "695\n",
            "Z78453.1\n",
            "Seq('CGTAACAAGGTTTCCGTAGGTGAACCTGCGGAAGGATCATTGTTGAGATCACAT...GCA')\n",
            "745\n",
            "Z78452.1\n",
            "Seq('CGTAACAAGGTTTCCGTAGGTGAACCTGCGGAAGGATCATTGTTGAGATCACAT...GCA')\n",
            "743\n",
            "Z78451.1\n",
            "Seq('CGTAACAAGGTTTCCGTAGGTGTACCTCCGGAAGGATCATTGTTGAGATCACAT...AGC')\n",
            "730\n",
            "Z78450.1\n",
            "Seq('GGAAGGATCATTGCTGATATCACATAATAATTGATCGAGTTAAGCTGGAGGATC...GAG')\n",
            "706\n",
            "Z78449.1\n",
            "Seq('CGTAACAAGGTTTCCGTAGGTGAACCTGCGGAAGGATCATTGTTGAGATCACAT...TGC')\n",
            "744\n",
            "Z78448.1\n",
            "Seq('CGTAACAAGGTTTCCGTAGGTGAACCTGCGGAAGGATCATTGTTGAGATCACAT...AGG')\n",
            "742\n",
            "Z78447.1\n",
            "Seq('CGTAACAAGGATTCCGTAGGTGAACCTGCGGGAGGATCATTGTTGAGATCACAT...AGC')\n",
            "694\n",
            "Z78446.1\n",
            "Seq('CGTAACAAGGTTTCCGTAGGTGAACCTCCGGAAGGATCATTGTTGAGATCACAT...CCC')\n",
            "712\n",
            "Z78445.1\n",
            "Seq('CGTAACAAGGTTTCCGTAGGTGAACCTGCGGAAGGATCATTGTTGAGATCACAT...TGT')\n",
            "715\n",
            "Z78444.1\n",
            "Seq('CGTAACAAGGTTTCCGTAGGGTGAACTGCGGAAGGATCATTGTTGAGATCACAT...ATT')\n",
            "688\n",
            "Z78443.1\n",
            "Seq('CGTAACAAGGTTTCCGTAGGTGAACCTGCGGAAGGATCATTGTTGAGATCACAT...AGG')\n",
            "784\n",
            "Z78442.1\n",
            "Seq('GTAGGTGAACCTGCGGAAGGATCATTGTTGAGATCACATAATAATTGATCGAGT...AGT')\n",
            "721\n",
            "Z78441.1\n",
            "Seq('GGAAGGTCATTGCCGATATCACATAATAATTGATCGAGTTAATCTGGAGGATCT...GAG')\n",
            "703\n",
            "Z78440.1\n",
            "Seq('CGTAACAAGGTTTCCGTAGGTGGACCTCCGGGAGGATCATTGTTGAGATCACAT...GCA')\n",
            "744\n",
            "Z78439.1\n",
            "Seq('CATTGTTGAGATCACATAATAATTGATCGAGTTAATCTGGAGGATCTGTTTACT...GCC')\n",
            "592\n"
          ]
        }
      ]
    },
    {
      "cell_type": "markdown",
      "source": [
        "# Sequences acts like a strings"
      ],
      "metadata": {
        "id": "tkG1_XjT0rBZ"
      }
    },
    {
      "cell_type": "code",
      "source": [
        "from Bio.Seq import Seq\n",
        "my_seq = Seq('AGTACACTGGT')\n",
        "my_seq\n",
        "for index, letter in enumerate(my_seq):\n",
        "  print(index, letter)"
      ],
      "metadata": {
        "colab": {
          "base_uri": "https://localhost:8080/"
        },
        "id": "O-lRxEipvISl",
        "outputId": "307e2819-b5a3-4108-fa0f-3caa7a9a1b7f"
      },
      "execution_count": 6,
      "outputs": [
        {
          "output_type": "stream",
          "name": "stdout",
          "text": [
            "0 A\n",
            "1 G\n",
            "2 T\n",
            "3 A\n",
            "4 C\n",
            "5 A\n",
            "6 C\n",
            "7 T\n",
            "8 G\n",
            "9 G\n",
            "10 T\n"
          ]
        }
      ]
    },
    {
      "cell_type": "code",
      "source": [
        "print(len(my_seq)) # len funciton"
      ],
      "metadata": {
        "colab": {
          "base_uri": "https://localhost:8080/"
        },
        "id": "KvwJcU1O04U2",
        "outputId": "7088f96e-fb80-40d2-99d0-b4b487685d9f"
      },
      "execution_count": 29,
      "outputs": [
        {
          "output_type": "stream",
          "name": "stdout",
          "text": [
            "11\n"
          ]
        }
      ]
    },
    {
      "cell_type": "code",
      "source": [
        "print(my_seq[2]) # Check the indexing"
      ],
      "metadata": {
        "colab": {
          "base_uri": "https://localhost:8080/"
        },
        "id": "odvkJjzq1QH0",
        "outputId": "1e3ac25a-ef74-4c16-f188-d6148b101463"
      },
      "execution_count": 30,
      "outputs": [
        {
          "output_type": "stream",
          "name": "stdout",
          "text": [
            "T\n"
          ]
        }
      ]
    },
    {
      "cell_type": "code",
      "source": [
        "my_seq.count('G') # Count function"
      ],
      "metadata": {
        "colab": {
          "base_uri": "https://localhost:8080/"
        },
        "id": "XQNpfuCP1Ya6",
        "outputId": "cf91539c-2e2f-4d08-a7ae-ba033f33ef3d"
      },
      "execution_count": 31,
      "outputs": [
        {
          "output_type": "execute_result",
          "data": {
            "text/plain": [
              "3"
            ]
          },
          "metadata": {},
          "execution_count": 31
        }
      ]
    },
    {
      "cell_type": "code",
      "source": [
        "bases = \"ATCGCC\"\n",
        "for i in bases:\n",
        "  print(i)"
      ],
      "metadata": {
        "colab": {
          "base_uri": "https://localhost:8080/"
        },
        "id": "IDrfvVC-1uyp",
        "outputId": "02ce1252-6944-4316-ee12-96b63e16c085"
      },
      "execution_count": 32,
      "outputs": [
        {
          "output_type": "stream",
          "name": "stdout",
          "text": [
            "A\n",
            "T\n",
            "C\n",
            "G\n",
            "C\n",
            "C\n"
          ]
        }
      ]
    },
    {
      "cell_type": "markdown",
      "source": [
        "# Calculate GC content using function"
      ],
      "metadata": {
        "id": "4d2gcw1KLMly"
      }
    },
    {
      "cell_type": "code",
      "source": [
        "from Bio.Seq import Seq\n",
        "my_seq = Seq('GATCGATGGGCCTATATAGGATCGAAAATCGC')\n",
        "print(my_seq)\n",
        "print('Length of sequence: ', len(my_seq))"
      ],
      "metadata": {
        "colab": {
          "base_uri": "https://localhost:8080/"
        },
        "id": "ZcKlVwIm7bu0",
        "outputId": "83198c92-7ac0-49d6-b466-1b7143c01cf2"
      },
      "execution_count": 38,
      "outputs": [
        {
          "output_type": "stream",
          "name": "stdout",
          "text": [
            "GATCGATGGGCCTATATAGGATCGAAAATCGC\n",
            "Length of sequence:  32\n"
          ]
        }
      ]
    },
    {
      "cell_type": "code",
      "source": [
        "# Calculate GC contetn\n",
        "GC = 100 * (my_seq.count('G') + my_seq.count('C')) / len(my_seq)\n",
        "print(GC)\n",
        "\n",
        "# Biopython module approach\n",
        "from Bio.SeqUtils import gc_fraction\n",
        "my_seq = Seq('GATCGATGGGCCTATATAGGATCGAAAATCGC')\n",
        "print(gc_fraction(my_seq))"
      ],
      "metadata": {
        "colab": {
          "base_uri": "https://localhost:8080/"
        },
        "id": "OZXM09peL5QA",
        "outputId": "3c7dea94-e193-43be-d001-e72853eb478b"
      },
      "execution_count": 42,
      "outputs": [
        {
          "output_type": "stream",
          "name": "stdout",
          "text": [
            "46.875\n",
            "0.46875\n"
          ]
        }
      ]
    },
    {
      "cell_type": "markdown",
      "source": [
        "# 2. Slicing sequnce"
      ],
      "metadata": {
        "id": "EpEQ0IlSNffr"
      }
    },
    {
      "cell_type": "code",
      "source": [
        "my_seq = Seq('GATCGATGGGCCTATATAGGATCGAAAATCGC')\n",
        "my_seq[4:12] # Keep in mind that python will include the 4th and exclude 12"
      ],
      "metadata": {
        "colab": {
          "base_uri": "https://localhost:8080/"
        },
        "id": "ZRc1Uh_OM2oN",
        "outputId": "07490274-3d0f-44fa-ff73-0e3296d31d46"
      },
      "execution_count": 7,
      "outputs": [
        {
          "output_type": "execute_result",
          "data": {
            "text/plain": [
              "Seq('GATGGGCC')"
            ]
          },
          "metadata": {},
          "execution_count": 7
        }
      ]
    },
    {
      "cell_type": "code",
      "source": [
        "my_seq[0::3] # 3rd step"
      ],
      "metadata": {
        "colab": {
          "base_uri": "https://localhost:8080/"
        },
        "id": "BElKQzWMOEge",
        "outputId": "ab8d2b10-7c1c-41f6-ee09-1fbc2862e52b"
      },
      "execution_count": 44,
      "outputs": [
        {
          "output_type": "execute_result",
          "data": {
            "text/plain": [
              "Seq('GCTGTAGTAAG')"
            ]
          },
          "metadata": {},
          "execution_count": 44
        }
      ]
    },
    {
      "cell_type": "code",
      "source": [
        "my_seq[1::2] # 2nd step"
      ],
      "metadata": {
        "colab": {
          "base_uri": "https://localhost:8080/"
        },
        "id": "-l6wv_axOgcc",
        "outputId": "2bb839df-c497-498b-f38f-20a77df26611"
      },
      "execution_count": 45,
      "outputs": [
        {
          "output_type": "execute_result",
          "data": {
            "text/plain": [
              "Seq('ACAGGCAAAGTGAACC')"
            ]
          },
          "metadata": {},
          "execution_count": 45
        }
      ]
    },
    {
      "cell_type": "code",
      "source": [
        "my_seq[::-1] # Reverse the sequence"
      ],
      "metadata": {
        "colab": {
          "base_uri": "https://localhost:8080/"
        },
        "id": "0iI0Qv2DOtLv",
        "outputId": "0cfe4a36-a27f-44df-8ba0-02608f582fad"
      },
      "execution_count": 46,
      "outputs": [
        {
          "output_type": "execute_result",
          "data": {
            "text/plain": [
              "Seq('CGCTAAAAGCTAGGATATATCCGGGTAGCTAG')"
            ]
          },
          "metadata": {},
          "execution_count": 46
        }
      ]
    },
    {
      "cell_type": "markdown",
      "source": [
        "# 3. Turning sequence objects into strings"
      ],
      "metadata": {
        "id": "b1Q6mDyTOzrr"
      }
    },
    {
      "cell_type": "code",
      "source": [
        "print(my_seq)"
      ],
      "metadata": {
        "colab": {
          "base_uri": "https://localhost:8080/"
        },
        "id": "1m38X6UqOxZW",
        "outputId": "fb4958be-6d35-4d49-8ffe-c5020485fcb2"
      },
      "execution_count": 8,
      "outputs": [
        {
          "output_type": "stream",
          "name": "stdout",
          "text": [
            "GATCGATGGGCCTATATAGGATCGAAAATCGC\n"
          ]
        }
      ]
    },
    {
      "cell_type": "code",
      "source": [
        "# If you want to write to a file, or insert into a database, then this is very easy\n",
        "fasta_format_string = \">Name\\n%s\\n>Blankline\" % my_seq\n",
        "print(fasta_format_string)"
      ],
      "metadata": {
        "colab": {
          "base_uri": "https://localhost:8080/"
        },
        "id": "ZAdfXo9FHugd",
        "outputId": "85fad9f3-5029-4b80-a48c-0a68d6f12d7c"
      },
      "execution_count": 13,
      "outputs": [
        {
          "output_type": "stream",
          "name": "stdout",
          "text": [
            ">Name\n",
            "GATCGATGGGCCTATATAGGATCGAAAATCGC\n",
            ">Blankline\n"
          ]
        }
      ]
    },
    {
      "cell_type": "markdown",
      "source": [
        "#4. Connecting or adding sequences"
      ],
      "metadata": {
        "id": "biZWvhfpJWXs"
      }
    },
    {
      "cell_type": "code",
      "source": [
        "from Bio.Seq import Seq\n",
        "seq1 = Seq('ATCG')\n",
        "seq2 = Seq('ATCG')\n",
        "seq3 = seq1 + seq2\n",
        "print(seq3)"
      ],
      "metadata": {
        "colab": {
          "base_uri": "https://localhost:8080/"
        },
        "id": "ZXHuPDoQJB23",
        "outputId": "fd0c2df5-3b7b-4ed0-b435-5f404890af38"
      },
      "execution_count": 14,
      "outputs": [
        {
          "output_type": "stream",
          "name": "stdout",
          "text": [
            "ATCGATCG\n"
          ]
        }
      ]
    },
    {
      "cell_type": "code",
      "source": [
        "# You can add multiple sequences using for loop\n",
        "\n",
        "from Bio.Seq import Seq\n",
        "list_of_seqs = [Seq('ATCG'), Seq('ATCG'), Seq('ATCG')]\n",
        "concatinated = Seq('') # Initialize empty string\n",
        "for seq in list_of_seqs: # Iterate through each sequence in the list\n",
        "  concatinated += seq # Add each sequence to the string\n",
        "print(concatinated)"
      ],
      "metadata": {
        "colab": {
          "base_uri": "https://localhost:8080/"
        },
        "id": "jhemATnTJoUJ",
        "outputId": "89c00e7c-f5b4-4036-9faa-3179b651fa5f"
      },
      "execution_count": 17,
      "outputs": [
        {
          "output_type": "stream",
          "name": "stdout",
          "text": [
            "ATCGATCGATCG\n"
          ]
        }
      ]
    },
    {
      "cell_type": "code",
      "source": [
        "# Join function\n",
        "\n",
        "my_seq\n",
        "spacer = ('N' * 10) # Spacer is a function that multiplys N 10 times and in the sequences for each nucleotide\n",
        "print(spacer.join(my_seq))\n",
        "\n",
        "# IF you just want to add\n",
        "\n",
        "seq4 = Seq(\"YYYYYY\")\n",
        "print(my_seq + seq4)\n"
      ],
      "metadata": {
        "colab": {
          "base_uri": "https://localhost:8080/"
        },
        "id": "9OvQnbKyKaiT",
        "outputId": "ebd057cc-f24f-4f41-b316-a66b5b0cdf50"
      },
      "execution_count": 29,
      "outputs": [
        {
          "output_type": "stream",
          "name": "stdout",
          "text": [
            "GNNNNNNNNNNANNNNNNNNNNTNNNNNNNNNNCNNNNNNNNNNGNNNNNNNNNNANNNNNNNNNNTNNNNNNNNNNGNNNNNNNNNNGNNNNNNNNNNGNNNNNNNNNNCNNNNNNNNNNCNNNNNNNNNNTNNNNNNNNNNANNNNNNNNNNTNNNNNNNNNNANNNNNNNNNNTNNNNNNNNNNANNNNNNNNNNGNNNNNNNNNNGNNNNNNNNNNANNNNNNNNNNTNNNNNNNNNNCNNNNNNNNNNGNNNNNNNNNNANNNNNNNNNNANNNNNNNNNNANNNNNNNNNNANNNNNNNNNNTNNNNNNNNNNCNNNNNNNNNNGNNNNNNNNNNC\n",
            "GATCGATGGGCCTATATAGGATCGAAAATCGCYYYYYY\n"
          ]
        }
      ]
    },
    {
      "cell_type": "markdown",
      "source": [
        "# 5. Revision"
      ],
      "metadata": {
        "id": "tSgYNHwINFIb"
      }
    },
    {
      "cell_type": "code",
      "source": [
        "from Bio.Seq import Seq\n",
        "DNA = Seq(\"ATCGGC\")\n",
        "complement = DNA.complement()\n",
        "complement\n",
        "\n",
        "reverse = DNA.reverse_complement()\n",
        "reverse"
      ],
      "metadata": {
        "colab": {
          "base_uri": "https://localhost:8080/"
        },
        "id": "lQldRzmILZ6G",
        "outputId": "b3ed7971-e275-4229-f946-10c21353bd80"
      },
      "execution_count": 40,
      "outputs": [
        {
          "output_type": "execute_result",
          "data": {
            "text/plain": [
              "Seq('GCCGAT')"
            ]
          },
          "metadata": {},
          "execution_count": 40
        }
      ]
    },
    {
      "cell_type": "markdown",
      "source": [
        "# 6. Transcription"
      ],
      "metadata": {
        "id": "-ZeRZdt7OSsw"
      }
    },
    {
      "cell_type": "code",
      "source": [
        "DNA = Seq(\"ATCGTGCACTGCAAGGTC\")\n",
        "DNA\n",
        "DNA = DNA.complement()\n",
        "DNA\n",
        "mRNA = DNA.transcribe()\n",
        "mRNA"
      ],
      "metadata": {
        "colab": {
          "base_uri": "https://localhost:8080/"
        },
        "id": "2sjKAwLANws3",
        "outputId": "2b13db9d-9246-4c30-a2e0-28ce70665d0f"
      },
      "execution_count": 45,
      "outputs": [
        {
          "output_type": "execute_result",
          "data": {
            "text/plain": [
              "Seq('UAGCACGUGACGUUCCAG')"
            ]
          },
          "metadata": {},
          "execution_count": 45
        }
      ]
    },
    {
      "cell_type": "code",
      "source": [
        "# one line\n",
        "DNA = Seq(\"ATCGTGCACTGCAAGGTC\").complement().transcribe()\n",
        "DNA"
      ],
      "metadata": {
        "colab": {
          "base_uri": "https://localhost:8080/"
        },
        "id": "wJvyUc3QPUsq",
        "outputId": "4c9736b1-b3f6-46a0-c6c4-d0386bac4272"
      },
      "execution_count": 46,
      "outputs": [
        {
          "output_type": "execute_result",
          "data": {
            "text/plain": [
              "Seq('UAGCACGUGACGUUCCAG')"
            ]
          },
          "metadata": {},
          "execution_count": 46
        }
      ]
    },
    {
      "cell_type": "markdown",
      "source": [
        "# 7. Translation"
      ],
      "metadata": {
        "id": "B9oGouaLQP2D"
      }
    },
    {
      "cell_type": "code",
      "source": [
        "mRNA\n",
        "protein = mRNA.translate()\n",
        "protein\n"
      ],
      "metadata": {
        "colab": {
          "base_uri": "https://localhost:8080/"
        },
        "id": "Xrjc2_26QPog",
        "outputId": "79cf3f78-514f-40fb-d3de-b62504f43ccf"
      },
      "execution_count": 49,
      "outputs": [
        {
          "output_type": "execute_result",
          "data": {
            "text/plain": [
              "Seq('*HVTFQ')"
            ]
          },
          "metadata": {},
          "execution_count": 49
        }
      ]
    },
    {
      "cell_type": "code",
      "source": [
        "# You can also translate from DNA also\n",
        "\n",
        "DNA = Seq(\"ATCGTGCACTGCAAGGTCCCTCTCTAAAAGAGCAGATTCTAGA\")\n",
        "protein = DNA.translate()\n",
        "protein"
      ],
      "metadata": {
        "colab": {
          "base_uri": "https://localhost:8080/"
        },
        "id": "5Jii-_5aQMp4",
        "outputId": "b6fab593-6f18-49e0-8f62-b2d712232e75"
      },
      "execution_count": 52,
      "outputs": [
        {
          "output_type": "stream",
          "name": "stderr",
          "text": [
            "/usr/local/lib/python3.10/dist-packages/Bio/Seq.py:2880: BiopythonWarning: Partial codon, len(sequence) not a multiple of three. Explicitly trim the sequence or add trailing N before translation. This may become an error in future.\n",
            "  warnings.warn(\n"
          ]
        },
        {
          "output_type": "execute_result",
          "data": {
            "text/plain": [
              "Seq('IVHCKVPL*KSRF*')"
            ]
          },
          "metadata": {},
          "execution_count": 52
        }
      ]
    },
    {
      "cell_type": "markdown",
      "source": [
        "## Please note, we have differnt translational table to refer, you can specify the table or name form NCBI list and Biopython would tranlate the same for you. ![image.png](data:image/png;base64,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)"
      ],
      "metadata": {
        "id": "I7aM_P_TSMkU"
      }
    },
    {
      "cell_type": "code",
      "source": [
        "DNA.translate(table = 'Vertebrate Mitochondrial')"
      ],
      "metadata": {
        "colab": {
          "base_uri": "https://localhost:8080/"
        },
        "id": "b0wS5fg6QyXu",
        "outputId": "0263a8cf-f75b-4d51-e2fa-aa730199cae4"
      },
      "execution_count": 53,
      "outputs": [
        {
          "output_type": "execute_result",
          "data": {
            "text/plain": [
              "Seq('IVHCKVPL*KS*F*')"
            ]
          },
          "metadata": {},
          "execution_count": 53
        }
      ]
    },
    {
      "cell_type": "code",
      "source": [
        "DNA.translate(table = 3)"
      ],
      "metadata": {
        "colab": {
          "base_uri": "https://localhost:8080/"
        },
        "id": "rRRcS70AS_7j",
        "outputId": "d396b9e3-9e4f-4c52-94ac-27b1c75265b8"
      },
      "execution_count": 54,
      "outputs": [
        {
          "output_type": "execute_result",
          "data": {
            "text/plain": [
              "Seq('IVHCKVPT*KSRF*')"
            ]
          },
          "metadata": {},
          "execution_count": 54
        }
      ]
    },
    {
      "cell_type": "code",
      "source": [
        "# THis start indicates the start and stop codon, if you want to not translate that part you can use to_stop argument\n",
        "\n",
        "DNA.translate(table = 'Vertebrate Mitochondrial', to_stop = True) # You wont find a star"
      ],
      "metadata": {
        "colab": {
          "base_uri": "https://localhost:8080/"
        },
        "id": "apjWhokwTM6n",
        "outputId": "b46e33ba-fc8e-451e-e7dc-74eeddcb622f"
      },
      "execution_count": 55,
      "outputs": [
        {
          "output_type": "stream",
          "name": "stderr",
          "text": [
            "/usr/local/lib/python3.10/dist-packages/Bio/Seq.py:2880: BiopythonWarning: Partial codon, len(sequence) not a multiple of three. Explicitly trim the sequence or add trailing N before translation. This may become an error in future.\n",
            "  warnings.warn(\n"
          ]
        },
        {
          "output_type": "execute_result",
          "data": {
            "text/plain": [
              "Seq('IVHCKVPL')"
            ]
          },
          "metadata": {},
          "execution_count": 55
        }
      ]
    },
    {
      "cell_type": "markdown",
      "source": [
        "# 8. Translation Tables\n",
        "## Tranlation tables are used to convert nucleotide sequences (DNA or RNA) into protein sequences based on genetic codes.\n",
        "\n",
        "Here we are learning how to access the translation tables."
      ],
      "metadata": {
        "id": "ItS5YhQZVgKQ"
      }
    },
    {
      "cell_type": "code",
      "source": [
        "from Bio.Data import CodonTable\n",
        "standard_table = CodonTable.unambiguous_dna_by_name['Standard']\n",
        "print(standard_table)\n",
        "\n",
        "standard_table = CodonTable.unambiguous_rna_by_id[1]\n",
        "print(standard_table)\n",
        "\n"
      ],
      "metadata": {
        "colab": {
          "base_uri": "https://localhost:8080/"
        },
        "id": "O0qF6rT6T4H7",
        "outputId": "8b11bb41-bffe-406c-9d32-7c75eaf784a2"
      },
      "execution_count": 62,
      "outputs": [
        {
          "output_type": "stream",
          "name": "stdout",
          "text": [
            "Table 1 Standard, SGC0\n",
            "\n",
            "  |  T      |  C      |  A      |  G      |\n",
            "--+---------+---------+---------+---------+--\n",
            "T | TTT F   | TCT S   | TAT Y   | TGT C   | T\n",
            "T | TTC F   | TCC S   | TAC Y   | TGC C   | C\n",
            "T | TTA L   | TCA S   | TAA Stop| TGA Stop| A\n",
            "T | TTG L(s)| TCG S   | TAG Stop| TGG W   | G\n",
            "--+---------+---------+---------+---------+--\n",
            "C | CTT L   | CCT P   | CAT H   | CGT R   | T\n",
            "C | CTC L   | CCC P   | CAC H   | CGC R   | C\n",
            "C | CTA L   | CCA P   | CAA Q   | CGA R   | A\n",
            "C | CTG L(s)| CCG P   | CAG Q   | CGG R   | G\n",
            "--+---------+---------+---------+---------+--\n",
            "A | ATT I   | ACT T   | AAT N   | AGT S   | T\n",
            "A | ATC I   | ACC T   | AAC N   | AGC S   | C\n",
            "A | ATA I   | ACA T   | AAA K   | AGA R   | A\n",
            "A | ATG M(s)| ACG T   | AAG K   | AGG R   | G\n",
            "--+---------+---------+---------+---------+--\n",
            "G | GTT V   | GCT A   | GAT D   | GGT G   | T\n",
            "G | GTC V   | GCC A   | GAC D   | GGC G   | C\n",
            "G | GTA V   | GCA A   | GAA E   | GGA G   | A\n",
            "G | GTG V   | GCG A   | GAG E   | GGG G   | G\n",
            "--+---------+---------+---------+---------+--\n",
            "Table 1 Standard, SGC0\n",
            "\n",
            "  |  U      |  C      |  A      |  G      |\n",
            "--+---------+---------+---------+---------+--\n",
            "U | UUU F   | UCU S   | UAU Y   | UGU C   | U\n",
            "U | UUC F   | UCC S   | UAC Y   | UGC C   | C\n",
            "U | UUA L   | UCA S   | UAA Stop| UGA Stop| A\n",
            "U | UUG L(s)| UCG S   | UAG Stop| UGG W   | G\n",
            "--+---------+---------+---------+---------+--\n",
            "C | CUU L   | CCU P   | CAU H   | CGU R   | U\n",
            "C | CUC L   | CCC P   | CAC H   | CGC R   | C\n",
            "C | CUA L   | CCA P   | CAA Q   | CGA R   | A\n",
            "C | CUG L(s)| CCG P   | CAG Q   | CGG R   | G\n",
            "--+---------+---------+---------+---------+--\n",
            "A | AUU I   | ACU T   | AAU N   | AGU S   | U\n",
            "A | AUC I   | ACC T   | AAC N   | AGC S   | C\n",
            "A | AUA I   | ACA T   | AAA K   | AGA R   | A\n",
            "A | AUG M(s)| ACG T   | AAG K   | AGG R   | G\n",
            "--+---------+---------+---------+---------+--\n",
            "G | GUU V   | GCU A   | GAU D   | GGU G   | U\n",
            "G | GUC V   | GCC A   | GAC D   | GGC G   | C\n",
            "G | GUA V   | GCA A   | GAA E   | GGA G   | A\n",
            "G | GUG V   | GCG A   | GAG E   | GGG G   | G\n",
            "--+---------+---------+---------+---------+--\n"
          ]
        }
      ]
    },
    {
      "cell_type": "code",
      "source": [
        "standard_table.stop_codons"
      ],
      "metadata": {
        "colab": {
          "base_uri": "https://localhost:8080/"
        },
        "id": "PfZAvVm5WoNF",
        "outputId": "643a5723-d205-472f-ec96-c14fab5c42c4"
      },
      "execution_count": 63,
      "outputs": [
        {
          "output_type": "execute_result",
          "data": {
            "text/plain": [
              "['UAA', 'UAG', 'UGA']"
            ]
          },
          "metadata": {},
          "execution_count": 63
        }
      ]
    },
    {
      "cell_type": "code",
      "source": [
        "standard_table.start_codons"
      ],
      "metadata": {
        "colab": {
          "base_uri": "https://localhost:8080/"
        },
        "id": "su-HB-gkXcRM",
        "outputId": "f4dd05b4-8cc3-45a9-fb50-20944a07d723"
      },
      "execution_count": 64,
      "outputs": [
        {
          "output_type": "execute_result",
          "data": {
            "text/plain": [
              "['UUG', 'CUG', 'AUG']"
            ]
          },
          "metadata": {},
          "execution_count": 64
        }
      ]
    },
    {
      "cell_type": "markdown",
      "source": [
        "#"
      ],
      "metadata": {
        "id": "y9lEBRjqYWCb"
      }
    },
    {
      "cell_type": "markdown",
      "source": [
        "# 9. Sequences with partially defined sequence contents"
      ],
      "metadata": {
        "id": "1watf-y-YeU_"
      }
    },
    {
      "cell_type": "code",
      "source": [
        "from Bio.Seq import Seq\n",
        "seq = Seq({117512683: \"TTGAAAACCTGAATGTGAGAGTCAGTCAAGGATAGT\"}, length=159345973) # First is ID, Seq and length\n",
        "print(seq)\n",
        "\n",
        ">>> seq[1000:1020]\n",
        "Seq(None, length=20)\n",
        ">>> seq[117512690:117512700]\n",
        "Seq('CCTGAATGTG')"
      ],
      "metadata": {
        "colab": {
          "base_uri": "https://localhost:8080/",
          "height": 105
        },
        "id": "bHnVSag7XeP-",
        "outputId": "3366313a-be8c-465a-c5e4-b7a9ffdc13a3"
      },
      "execution_count": 68,
      "outputs": [
        {
          "output_type": "error",
          "ename": "SyntaxError",
          "evalue": "invalid syntax (<ipython-input-68-e662d3ef8035>, line 5)",
          "traceback": [
            "\u001b[0;36m  File \u001b[0;32m\"<ipython-input-68-e662d3ef8035>\"\u001b[0;36m, line \u001b[0;32m5\u001b[0m\n\u001b[0;31m    >>> seq[1000:1020]\u001b[0m\n\u001b[0m    ^\u001b[0m\n\u001b[0;31mSyntaxError\u001b[0m\u001b[0;31m:\u001b[0m invalid syntax\n"
          ]
        }
      ]
    },
    {
      "cell_type": "markdown",
      "source": [
        "# 10. Mutable seq object"
      ],
      "metadata": {
        "id": "YXS5-Su2ZpPW"
      }
    },
    {
      "cell_type": "code",
      "source": [
        "# General Python practice\n",
        "from Bio.Seq import Seq\n",
        "my_seq = Seq(\"GCCATTGTAATGGGCCGCTGAAAGGGTGCCCGA\")\n",
        "my_seq[1] = 'G'"
      ],
      "metadata": {
        "colab": {
          "base_uri": "https://localhost:8080/",
          "height": 173
        },
        "id": "-iemWf1xZpCP",
        "outputId": "154620ba-6ad6-4a05-9f77-6627c7a1c201"
      },
      "execution_count": 70,
      "outputs": [
        {
          "output_type": "error",
          "ename": "TypeError",
          "evalue": "'Seq' object does not support item assignment",
          "traceback": [
            "\u001b[0;31m---------------------------------------------------------------------------\u001b[0m",
            "\u001b[0;31mTypeError\u001b[0m                                 Traceback (most recent call last)",
            "\u001b[0;32m<ipython-input-70-94ab9ea8d6f7>\u001b[0m in \u001b[0;36m<cell line: 3>\u001b[0;34m()\u001b[0m\n\u001b[1;32m      1\u001b[0m \u001b[0;32mfrom\u001b[0m \u001b[0mBio\u001b[0m\u001b[0;34m.\u001b[0m\u001b[0mSeq\u001b[0m \u001b[0;32mimport\u001b[0m \u001b[0mSeq\u001b[0m\u001b[0;34m\u001b[0m\u001b[0;34m\u001b[0m\u001b[0m\n\u001b[1;32m      2\u001b[0m \u001b[0mmy_seq\u001b[0m \u001b[0;34m=\u001b[0m \u001b[0mSeq\u001b[0m\u001b[0;34m(\u001b[0m\u001b[0;34m\"GCCATTGTAATGGGCCGCTGAAAGGGTGCCCGA\"\u001b[0m\u001b[0;34m)\u001b[0m\u001b[0;34m\u001b[0m\u001b[0;34m\u001b[0m\u001b[0m\n\u001b[0;32m----> 3\u001b[0;31m \u001b[0mmy_seq\u001b[0m\u001b[0;34m[\u001b[0m\u001b[0;36m1\u001b[0m\u001b[0;34m]\u001b[0m \u001b[0;34m=\u001b[0m \u001b[0;34m'G'\u001b[0m\u001b[0;34m\u001b[0m\u001b[0;34m\u001b[0m\u001b[0m\n\u001b[0m",
            "\u001b[0;31mTypeError\u001b[0m: 'Seq' object does not support item assignment"
          ]
        }
      ]
    },
    {
      "cell_type": "code",
      "source": [
        "# Biopython practice\n",
        "\n",
        "from Bio.Seq import MutableSeq\n",
        "Mutable_seq = MutableSeq(my_seq) # MutableSeq is a funciton\n",
        "Mutable_seq"
      ],
      "metadata": {
        "colab": {
          "base_uri": "https://localhost:8080/"
        },
        "id": "ZGehtUk0ZGcz",
        "outputId": "ac5db2eb-ef3d-46bf-f226-36d46ee0c610"
      },
      "execution_count": 71,
      "outputs": [
        {
          "output_type": "execute_result",
          "data": {
            "text/plain": [
              "MutableSeq('GCCATTGTAATGGGCCGCTGAAAGGGTGCCCGA')"
            ]
          },
          "metadata": {},
          "execution_count": 71
        }
      ]
    },
    {
      "cell_type": "code",
      "source": [
        "# Replace or chnage the sequence\n",
        "Mutable_seq[2] = \"G\"\n",
        "Mutable_seq"
      ],
      "metadata": {
        "colab": {
          "base_uri": "https://localhost:8080/"
        },
        "id": "9LTU_jBNaUgO",
        "outputId": "f0f0bb94-b097-4fdb-d388-bd89b4e7ec15"
      },
      "execution_count": 73,
      "outputs": [
        {
          "output_type": "execute_result",
          "data": {
            "text/plain": [
              "MutableSeq('GCGATTGTAATGGGCCGCTGAAAGGGTGCCCGA')"
            ]
          },
          "metadata": {},
          "execution_count": 73
        }
      ]
    },
    {
      "cell_type": "code",
      "source": [
        "# Remove the sequence\n",
        "Mutable_seq.remove('G')\n",
        "Mutable_seq"
      ],
      "metadata": {
        "colab": {
          "base_uri": "https://localhost:8080/"
        },
        "id": "iH3BZdo0afXV",
        "outputId": "3b30df80-1de3-4941-86ab-310c406a997a"
      },
      "execution_count": 75,
      "outputs": [
        {
          "output_type": "execute_result",
          "data": {
            "text/plain": [
              "MutableSeq('CATTGTAATGGGCCGCTGAAAGGGTGCCCGA')"
            ]
          },
          "metadata": {},
          "execution_count": 75
        }
      ]
    },
    {
      "cell_type": "code",
      "source": [
        "# Reverse\n",
        "Mutable_seq.reverse()\n",
        "Mutable_seq"
      ],
      "metadata": {
        "colab": {
          "base_uri": "https://localhost:8080/"
        },
        "id": "vroJznt4bGB_",
        "outputId": "8d6b4726-cdf2-4427-82d1-b7ef5b090248"
      },
      "execution_count": 76,
      "outputs": [
        {
          "output_type": "execute_result",
          "data": {
            "text/plain": [
              "MutableSeq('AGCCCGTGGGAAAGTCGCCGGGTAATGTTAC')"
            ]
          },
          "metadata": {},
          "execution_count": 76
        }
      ]
    },
    {
      "cell_type": "code",
      "source": [
        "# Once you are done with Mutable seq you can make immutable (Read mode only)\n",
        "\n",
        "New_seq = Seq(Mutable_seq)\n",
        "New_seq"
      ],
      "metadata": {
        "colab": {
          "base_uri": "https://localhost:8080/"
        },
        "id": "Tl6yZPkbbL5u",
        "outputId": "9996694f-184d-43c8-d4f2-6d7f59f1494c"
      },
      "execution_count": 77,
      "outputs": [
        {
          "output_type": "execute_result",
          "data": {
            "text/plain": [
              "Seq('AGCCCGTGGGAAAGTCGCCGGGTAATGTTAC')"
            ]
          },
          "metadata": {},
          "execution_count": 77
        }
      ]
    },
    {
      "cell_type": "markdown",
      "source": [
        "# 11. Finding subsequences"
      ],
      "metadata": {
        "id": "KMMb_tN9cI3_"
      }
    },
    {
      "cell_type": "code",
      "source": [
        "from Bio.Seq import Seq, MutableSeq\n",
        "seq = Seq(\"GCCATTGTAATGGGCCGCTGAAAGGGTGCCCGA\")\n",
        "seq.index(\"GCCGCTGAAAGGGTG\")\n",
        "\n"
      ],
      "metadata": {
        "colab": {
          "base_uri": "https://localhost:8080/"
        },
        "id": "OrS2aboAbi12",
        "outputId": "dcf2daab-6a1e-4456-bbcb-29f72d92695c"
      },
      "execution_count": 81,
      "outputs": [
        {
          "output_type": "execute_result",
          "data": {
            "text/plain": [
              "13"
            ]
          },
          "metadata": {},
          "execution_count": 81
        }
      ]
    },
    {
      "cell_type": "code",
      "source": [
        "seq.index(bytearray(b\"GCCGCTGAAAGGGTG\"))"
      ],
      "metadata": {
        "colab": {
          "base_uri": "https://localhost:8080/"
        },
        "id": "SWWRBWvvcxZD",
        "outputId": "b6484950-7ebc-40dc-ad53-18ccfdb508d3"
      },
      "execution_count": 83,
      "outputs": [
        {
          "output_type": "execute_result",
          "data": {
            "text/plain": [
              "13"
            ]
          },
          "metadata": {},
          "execution_count": 83
        }
      ]
    },
    {
      "cell_type": "code",
      "source": [
        "# Check if sequence is avilable or not in the string\n",
        "seq.find(\"GCC\")"
      ],
      "metadata": {
        "colab": {
          "base_uri": "https://localhost:8080/"
        },
        "id": "u9NvVlL4dF0o",
        "outputId": "2df4d14d-e2ac-4e52-fe9b-e22187ded428"
      },
      "execution_count": 84,
      "outputs": [
        {
          "output_type": "execute_result",
          "data": {
            "text/plain": [
              "0"
            ]
          },
          "metadata": {},
          "execution_count": 84
        }
      ]
    },
    {
      "cell_type": "code",
      "source": [
        "seq.find(\"TTTT\") # If its not available it shows -1"
      ],
      "metadata": {
        "colab": {
          "base_uri": "https://localhost:8080/"
        },
        "id": "UBNWAeQIdp1Y",
        "outputId": "400df06b-14b3-495c-9a01-9e0996953df3"
      },
      "execution_count": 86,
      "outputs": [
        {
          "output_type": "execute_result",
          "data": {
            "text/plain": [
              "-1"
            ]
          },
          "metadata": {},
          "execution_count": 86
        }
      ]
    },
    {
      "cell_type": "code",
      "source": [
        "seq.rfind(\"GCC\") # rFind used to fetch the sequence from right side"
      ],
      "metadata": {
        "colab": {
          "base_uri": "https://localhost:8080/"
        },
        "id": "0ubjJBm0dTe7",
        "outputId": "aeb31924-f4d5-4ebb-dc52-6419a5488a06"
      },
      "execution_count": 85,
      "outputs": [
        {
          "output_type": "execute_result",
          "data": {
            "text/plain": [
              "27"
            ]
          },
          "metadata": {},
          "execution_count": 85
        }
      ]
    },
    {
      "cell_type": "code",
      "source": [
        "seq.count(\"GG\")"
      ],
      "metadata": {
        "id": "ZIbFEEtbcfn1"
      },
      "execution_count": null,
      "outputs": []
    },
    {
      "cell_type": "markdown",
      "source": [
        "## Suppose you have find the mutable sequence and you want to search their indexes to replace\n"
      ],
      "metadata": {
        "id": "SY-03rYyeIB1"
      }
    },
    {
      "cell_type": "code",
      "source": [
        "for index, sub in seq.search(['GGG', 'CC']):\n",
        "  print(index, sub)"
      ],
      "metadata": {
        "colab": {
          "base_uri": "https://localhost:8080/"
        },
        "id": "65ITMpG2d7gX",
        "outputId": "21864e6b-90d9-44fb-ca7f-cb11e5e6c75a"
      },
      "execution_count": 88,
      "outputs": [
        {
          "output_type": "stream",
          "name": "stdout",
          "text": [
            "1 CC\n",
            "11 GGG\n",
            "14 CC\n",
            "23 GGG\n",
            "28 CC\n",
            "29 CC\n"
          ]
        }
      ]
    },
    {
      "cell_type": "code",
      "source": [],
      "metadata": {
        "id": "-D8qhhbIeY73"
      },
      "execution_count": null,
      "outputs": []
    }
  ]
}
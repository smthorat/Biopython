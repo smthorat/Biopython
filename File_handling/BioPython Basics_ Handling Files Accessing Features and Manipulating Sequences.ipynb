{
 "cells": [
  {
   "cell_type": "markdown",
   "id": "d326611a-aede-4763-b150-91b509d87e91",
   "metadata": {},
   "source": [
    "Reading FASTA file\n",
    "Access features, location and position of the object \n",
    "\n",
    "pip install biopython\n",
    "file path: /Volumes/Jagannath/Programming/NC_005816.fna.txt"
   ]
  },
  {
   "cell_type": "code",
   "execution_count": 25,
   "id": "4b5ecf1d-ba55-4d01-a93b-9e9dda49dae1",
   "metadata": {},
   "outputs": [],
   "source": [
    "from Bio import SeqIO"
   ]
  },
  {
   "cell_type": "code",
   "execution_count": 27,
   "id": "6f0328ba-a842-4dcf-a4c2-9f49e86eaf3a",
   "metadata": {},
   "outputs": [
    {
     "data": {
      "text/plain": [
       "SeqRecord(seq=Seq('TGTAACGAACGGTGCAATAGTGATCCACACCCAACGCCTGAAATCAGATCCAGG...CTG'), id='gi|45478711|ref|NC_005816.1|', name='gi|45478711|ref|NC_005816.1|', description='gi|45478711|ref|NC_005816.1| Yersinia pestis biovar Microtus str. 91001 plasmid pPCP1, complete sequence', dbxrefs=[])"
      ]
     },
     "execution_count": 27,
     "metadata": {},
     "output_type": "execute_result"
    }
   ],
   "source": [
    "record = SeqIO.read(\"/Volumes/Jagannath/Programming/NC_005816.fna.txt\", \"fasta\")\n",
    "record"
   ]
  },
  {
   "cell_type": "code",
   "execution_count": 29,
   "id": "632d74bb-4073-4d92-968e-7e29044d024c",
   "metadata": {},
   "outputs": [
    {
     "data": {
      "text/plain": [
       "'gi|45478711|ref|NC_005816.1|'"
      ]
     },
     "execution_count": 29,
     "metadata": {},
     "output_type": "execute_result"
    }
   ],
   "source": [
    "record.id"
   ]
  },
  {
   "cell_type": "code",
   "execution_count": 31,
   "id": "8899373c-dbb4-4605-94a3-f4aab43b58e3",
   "metadata": {},
   "outputs": [
    {
     "data": {
      "text/plain": [
       "'gi|45478711|ref|NC_005816.1| Yersinia pestis biovar Microtus str. 91001 plasmid pPCP1, complete sequence'"
      ]
     },
     "execution_count": 31,
     "metadata": {},
     "output_type": "execute_result"
    }
   ],
   "source": [
    "record.description"
   ]
  },
  {
   "cell_type": "code",
   "execution_count": 35,
   "id": "0c906aa1-a8a1-4eb0-b33d-cb2e01535d76",
   "metadata": {},
   "outputs": [
    {
     "data": {
      "text/plain": [
       "'gi|45478711|ref|NC_005816.1|'"
      ]
     },
     "execution_count": 35,
     "metadata": {},
     "output_type": "execute_result"
    }
   ],
   "source": [
    "record.name"
   ]
  },
  {
   "cell_type": "code",
   "execution_count": 37,
   "id": "f53e57f9-7f89-4cdc-8c1a-65731fc14c2e",
   "metadata": {},
   "outputs": [
    {
     "data": {
      "text/plain": [
       "{}"
      ]
     },
     "execution_count": 37,
     "metadata": {},
     "output_type": "execute_result"
    }
   ],
   "source": [
    "record.annotations"
   ]
  },
  {
   "cell_type": "code",
   "execution_count": 39,
   "id": "73aa1368-ff9c-410c-b717-47b45d16a732",
   "metadata": {},
   "outputs": [
    {
     "data": {
      "text/plain": [
       "[]"
      ]
     },
     "execution_count": 39,
     "metadata": {},
     "output_type": "execute_result"
    }
   ],
   "source": [
    "record.features "
   ]
  },
  {
   "cell_type": "code",
   "execution_count": 57,
   "id": "29a91ec9-a799-4002-b827-ad5a3f5c6f47",
   "metadata": {},
   "outputs": [],
   "source": [
    "# Read Genbank file"
   ]
  },
  {
   "cell_type": "code",
   "execution_count": 59,
   "id": "0f993e7d-0769-4c3b-9c0a-6341356c8698",
   "metadata": {},
   "outputs": [
    {
     "data": {
      "text/plain": [
       "SeqRecord(seq=Seq('TGTAACGAACGGTGCAATAGTGATCCACACCCAACGCCTGAAATCAGATCCAGG...CTG'), id='NC_005816.1', name='NC_005816', description='Yersinia pestis biovar Microtus str. 91001 plasmid pPCP1, complete sequence', dbxrefs=['Project:58037'])"
      ]
     },
     "execution_count": 59,
     "metadata": {},
     "output_type": "execute_result"
    }
   ],
   "source": [
    "record = SeqIO.read(\"/Users/swaraj/Downloads/NC_005816.gb.txt\", \"genbank\")\n",
    "record"
   ]
  },
  {
   "cell_type": "code",
   "execution_count": 61,
   "id": "35099ae4-6b90-42ec-8fca-05ff65a67a15",
   "metadata": {},
   "outputs": [
    {
     "data": {
      "text/plain": [
       "'NC_005816'"
      ]
     },
     "execution_count": 61,
     "metadata": {},
     "output_type": "execute_result"
    }
   ],
   "source": [
    "record.name"
   ]
  },
  {
   "cell_type": "code",
   "execution_count": 63,
   "id": "73a4b887-be1f-4f17-bd7f-df96f289bd56",
   "metadata": {},
   "outputs": [
    {
     "data": {
      "text/plain": [
       "'NC_005816.1'"
      ]
     },
     "execution_count": 63,
     "metadata": {},
     "output_type": "execute_result"
    }
   ],
   "source": [
    "record.id"
   ]
  },
  {
   "cell_type": "code",
   "execution_count": 65,
   "id": "14263a05-618d-43c4-ab10-0f26e8b48dd2",
   "metadata": {},
   "outputs": [
    {
     "data": {
      "text/plain": [
       "{'molecule_type': 'DNA',\n",
       " 'topology': 'circular',\n",
       " 'data_file_division': 'BCT',\n",
       " 'date': '21-JUL-2008',\n",
       " 'accessions': ['NC_005816'],\n",
       " 'sequence_version': 1,\n",
       " 'gi': '45478711',\n",
       " 'keywords': [''],\n",
       " 'source': 'Yersinia pestis biovar Microtus str. 91001',\n",
       " 'organism': 'Yersinia pestis biovar Microtus str. 91001',\n",
       " 'taxonomy': ['Bacteria',\n",
       "  'Proteobacteria',\n",
       "  'Gammaproteobacteria',\n",
       "  'Enterobacteriales',\n",
       "  'Enterobacteriaceae',\n",
       "  'Yersinia'],\n",
       " 'references': [Reference(title='Genetics of metabolic variations between Yersinia pestis biovars and the proposal of a new biovar, microtus', ...),\n",
       "  Reference(title='Complete genome sequence of Yersinia pestis strain 91001, an isolate avirulent to humans', ...),\n",
       "  Reference(title='Direct Submission', ...),\n",
       "  Reference(title='Direct Submission', ...)],\n",
       " 'comment': 'PROVISIONAL REFSEQ: This record has not yet been subject to final\\nNCBI review. The reference sequence was derived from AE017046.\\nCOMPLETENESS: full length.'}"
      ]
     },
     "execution_count": 65,
     "metadata": {},
     "output_type": "execute_result"
    }
   ],
   "source": [
    "record.annotations"
   ]
  },
  {
   "cell_type": "code",
   "execution_count": 67,
   "id": "6dba0017-5763-4447-b275-42085140889e",
   "metadata": {},
   "outputs": [
    {
     "data": {
      "text/plain": [
       "['Project:58037']"
      ]
     },
     "execution_count": 67,
     "metadata": {},
     "output_type": "execute_result"
    }
   ],
   "source": [
    "record.dbxrefs"
   ]
  },
  {
   "cell_type": "code",
   "execution_count": 69,
   "id": "27bb1272-2db7-4622-9343-918ea21011d2",
   "metadata": {},
   "outputs": [
    {
     "data": {
      "text/plain": [
       "'21-JUL-2008'"
      ]
     },
     "execution_count": 69,
     "metadata": {},
     "output_type": "execute_result"
    }
   ],
   "source": [
    "record.annotations[\"date\"]"
   ]
  },
  {
   "cell_type": "code",
   "execution_count": 73,
   "id": "8ea31389-91f8-4e90-9e77-bb11fbd27d5d",
   "metadata": {},
   "outputs": [
    {
     "data": {
      "text/plain": [
       "'circular'"
      ]
     },
     "execution_count": 73,
     "metadata": {},
     "output_type": "execute_result"
    }
   ],
   "source": [
    "record.annotations[\"topology\"]"
   ]
  },
  {
   "cell_type": "code",
   "execution_count": 75,
   "id": "aedd8c1e-2ecc-4b1b-8922-61a7ac1aa002",
   "metadata": {},
   "outputs": [
    {
     "data": {
      "text/plain": [
       "41"
      ]
     },
     "execution_count": 75,
     "metadata": {},
     "output_type": "execute_result"
    }
   ],
   "source": [
    "len(record.features)"
   ]
  },
  {
   "cell_type": "code",
   "execution_count": 77,
   "id": "4f0feaa6-dd12-4f54-854b-814e54a60d1a",
   "metadata": {},
   "outputs": [
    {
     "data": {
      "text/plain": [
       "SeqFeature(SimpleLocation(ExactPosition(0), ExactPosition(9609), strand=1), type='source', qualifiers=...)"
      ]
     },
     "execution_count": 77,
     "metadata": {},
     "output_type": "execute_result"
    }
   ],
   "source": [
    "record.features[0]"
   ]
  },
  {
   "cell_type": "code",
   "execution_count": 79,
   "id": "37ce2649-391b-4533-9877-5724ab4e61a6",
   "metadata": {},
   "outputs": [
    {
     "data": {
      "text/plain": [
       "SeqFeature(SimpleLocation(ExactPosition(86), ExactPosition(1109), strand=1), type='gene', qualifiers=...)"
      ]
     },
     "execution_count": 79,
     "metadata": {},
     "output_type": "execute_result"
    }
   ],
   "source": [
    "record.features[2]"
   ]
  },
  {
   "cell_type": "code",
   "execution_count": 81,
   "id": "8100a419-5d8d-49a6-b4b1-dede42525d88",
   "metadata": {},
   "outputs": [
    {
     "data": {
      "text/plain": [
       "'gene'"
      ]
     },
     "execution_count": 81,
     "metadata": {},
     "output_type": "execute_result"
    }
   ],
   "source": [
    "feature.type"
   ]
  },
  {
   "cell_type": "code",
   "execution_count": 125,
   "id": "dcb18662-2ca3-4867-9625-787111238b30",
   "metadata": {},
   "outputs": [
    {
     "data": {
      "text/plain": [
       "SimpleLocation(ExactPosition(5), ExactPosition(20))"
      ]
     },
     "execution_count": 125,
     "metadata": {},
     "output_type": "execute_result"
    }
   ],
   "source": [
    "feature.location"
   ]
  },
  {
   "cell_type": "code",
   "execution_count": 133,
   "id": "4f4dcc70-78d8-4a60-9c78-e5048c3140d2",
   "metadata": {},
   "outputs": [
    {
     "data": {
      "text/plain": [
       "Seq('TGTAACGAACGGTGCAATAGTGATCCACACCCAACGCCTGAAATCAGATCCAGG...CTG')"
      ]
     },
     "execution_count": 133,
     "metadata": {},
     "output_type": "execute_result"
    }
   ],
   "source": [
    "record.seq"
   ]
  },
  {
   "cell_type": "markdown",
   "id": "7025d215-87ab-455e-9543-87e1e8870cd4",
   "metadata": {},
   "source": [
    "# Access features, location and position of the object \n",
    "ExactPosition: Represents an exact position on the sequence as a number; access via the position attribute.\n",
    "BeforePosition: Represents a fuzzy position before a specified site (e.g., <13); upper boundary via the position attribute.\n",
    "AfterPosition: Represents a fuzzy position after a specified site (e.g., >13); lower boundary via the position attribute.\n",
    "WithinPosition: Represents a position within a range of two nucleotides (e.g., (1.5)); range access via the position attribute.\n",
    "OneOfPosition: Represents a position with several possible values; used for ambiguous start codons or multiple candidates.\n",
    "UnknownPosition: Represents an unknown position, not used in GenBank/EMBL but corresponds to the ? feature in UniProt."
   ]
  },
  {
   "cell_type": "code",
   "execution_count": 166,
   "id": "4105c481-46e8-4fdd-8d2a-b7b6790c3078",
   "metadata": {},
   "outputs": [],
   "source": [
    "from Bio import SeqFeature"
   ]
  },
  {
   "cell_type": "code",
   "execution_count": 170,
   "id": "322fb876-1591-49bd-864a-2d6f586b95ae",
   "metadata": {},
   "outputs": [
    {
     "data": {
      "text/plain": [
       "SimpleLocation(AfterPosition(5), BetweenPosition(9, left=8, right=9))"
      ]
     },
     "execution_count": 170,
     "metadata": {},
     "output_type": "execute_result"
    }
   ],
   "source": [
    "start_position = SeqFeature.AfterPosition (5)\n",
    "end_position = SeqFeature.BetweenPosition(9, left=8, right=9)\n",
    "my_locaiton = SeqFeature.SimpleLocation(start_position, end_position)\n",
    "my_locaiton "
   ]
  },
  {
   "cell_type": "code",
   "execution_count": 172,
   "id": "63bf27c9-3ad9-49b8-8cad-caae4c3f6601",
   "metadata": {},
   "outputs": [
    {
     "data": {
      "text/plain": [
       "AfterPosition(5)"
      ]
     },
     "execution_count": 172,
     "metadata": {},
     "output_type": "execute_result"
    }
   ],
   "source": [
    "my_location.start"
   ]
  },
  {
   "cell_type": "code",
   "execution_count": 174,
   "id": "868667fc-dae8-4aee-ab3f-5cc49a49af61",
   "metadata": {},
   "outputs": [
    {
     "data": {
      "text/plain": [
       "BetweenPosition(9, left=8, right=9)"
      ]
     },
     "execution_count": 174,
     "metadata": {},
     "output_type": "execute_result"
    }
   ],
   "source": [
    "my_location.end"
   ]
  },
  {
   "cell_type": "code",
   "execution_count": 176,
   "id": "8187392f-ef7d-4900-8134-27b7352067e3",
   "metadata": {},
   "outputs": [
    {
     "data": {
      "text/plain": [
       "5"
      ]
     },
     "execution_count": 176,
     "metadata": {},
     "output_type": "execute_result"
    }
   ],
   "source": [
    "int(my_location.start)"
   ]
  },
  {
   "cell_type": "code",
   "execution_count": 180,
   "id": "f678f779-a991-4590-902b-2c5cb4d8d0ac",
   "metadata": {},
   "outputs": [
    {
     "data": {
      "text/plain": [
       "9"
      ]
     },
     "execution_count": 180,
     "metadata": {},
     "output_type": "execute_result"
    }
   ],
   "source": [
    "int(my_location.end)"
   ]
  },
  {
   "cell_type": "code",
   "execution_count": 192,
   "id": "91385ccf-3df7-42d4-adc6-52cea43f8356",
   "metadata": {},
   "outputs": [],
   "source": [
    "# Exact Locaiton "
   ]
  },
  {
   "cell_type": "code",
   "execution_count": 194,
   "id": "b1f2b211-cb5b-44d4-92ca-3ef691547bf4",
   "metadata": {},
   "outputs": [
    {
     "name": "stdout",
     "output_type": "stream",
     "text": [
      "[3:9]\n"
     ]
    }
   ],
   "source": [
    "exact_location = SeqFeature.SimpleLocation (3,9)\n",
    "print(exact_location)"
   ]
  },
  {
   "cell_type": "code",
   "execution_count": 222,
   "id": "62e2d70d-42ab-4372-88fc-6de26c35dce9",
   "metadata": {},
   "outputs": [],
   "source": [
    "# Location Testing "
   ]
  },
  {
   "cell_type": "code",
   "execution_count": 224,
   "id": "f6ac0bcf-c951-4d44-b74e-a8aac78e5caa",
   "metadata": {},
   "outputs": [],
   "source": [
    "from Bio import SeqIO"
   ]
  },
  {
   "cell_type": "code",
   "execution_count": 226,
   "id": "29fdb5bf-e8ab-4458-b8ca-64b33e7f4cdf",
   "metadata": {},
   "outputs": [
    {
     "name": "stdout",
     "output_type": "stream",
     "text": [
      "source ['taxon:229193']\n",
      "gene ['GeneID:2767712']\n",
      "CDS ['GI:45478716', 'GeneID:2767712']\n"
     ]
    }
   ],
   "source": [
    "my_snp = 4350\n",
    "record = SeqIO.read(\"/Users/swaraj/Downloads/NC_005816.gb.txt\", \"genbank\")\n",
    "for feature in record.features: \n",
    "    if my_snp in feature: \n",
    "        print(feature.type, feature.qualifiers.get(\"db_xref\"))"
   ]
  },
  {
   "cell_type": "code",
   "execution_count": null,
   "id": "100b10c5-3a4f-4f70-a9d7-dc44277a78e0",
   "metadata": {},
   "outputs": [],
   "source": []
  }
 ],
 "metadata": {
  "kernelspec": {
   "display_name": "Python 3 (ipykernel)",
   "language": "python",
   "name": "python3"
  },
  "language_info": {
   "codemirror_mode": {
    "name": "ipython",
    "version": 3
   },
   "file_extension": ".py",
   "mimetype": "text/x-python",
   "name": "python",
   "nbconvert_exporter": "python",
   "pygments_lexer": "ipython3",
   "version": "3.11.7"
  }
 },
 "nbformat": 4,
 "nbformat_minor": 5
}
